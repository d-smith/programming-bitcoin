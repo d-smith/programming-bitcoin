{
 "cells": [
  {
   "cell_type": "markdown",
   "id": "65357db0",
   "metadata": {},
   "source": [
    "## Transactions\n",
    "\n",
    "Transactions consist of 4 parts\n",
    "\n",
    "* Version\n",
    "* Inputs\n",
    "* Outputs\n",
    "* Locktime"
   ]
  },
  {
   "cell_type": "code",
   "execution_count": null,
   "id": "e4684c1d",
   "metadata": {},
   "outputs": [],
   "source": []
  }
 ],
 "metadata": {
  "kernelspec": {
   "display_name": "Python 3 (ipykernel)",
   "language": "python",
   "name": "python3"
  },
  "language_info": {
   "codemirror_mode": {
    "name": "ipython",
    "version": 3
   },
   "file_extension": ".py",
   "mimetype": "text/x-python",
   "name": "python",
   "nbconvert_exporter": "python",
   "pygments_lexer": "ipython3",
   "version": "3.8.10"
  }
 },
 "nbformat": 4,
 "nbformat_minor": 5
}
