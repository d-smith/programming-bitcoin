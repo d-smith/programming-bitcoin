{
 "cells": [
  {
   "cell_type": "markdown",
   "id": "65357db0",
   "metadata": {},
   "source": [
    "## Transactions\n",
    "\n",
    "Transactions consist of 4 parts\n",
    "\n",
    "* Version\n",
    "* Inputs\n",
    "* Outputs\n",
    "* Locktime"
   ]
  },
  {
   "cell_type": "code",
   "execution_count": 1,
   "id": "e4684c1d",
   "metadata": {},
   "outputs": [],
   "source": [
    "from importlib import reload\n",
    "from tx import Tx"
   ]
  },
  {
   "cell_type": "code",
   "execution_count": 2,
   "id": "ad5acd98",
   "metadata": {},
   "outputs": [],
   "source": [
    "from io import BytesIO\n",
    "from tx import Tx\n",
    "\n",
    "hex_transaction = '010000000456919960ac691763688d3d3bcea9ad6ecaf875df5339e\\\n",
    "148a1fc61c6ed7a069e010000006a47304402204585bcdef85e6b1c6af5c2669d4830ff86e42dd\\\n",
    "205c0e089bc2a821657e951c002201024a10366077f87d6bce1f7100ad8cfa8a064b39d4e8fe4e\\\n",
    "a13a7b71aa8180f012102f0da57e85eec2934a82a585ea337ce2f4998b50ae699dd79f5880e253\\\n",
    "dafafb7feffffffeb8f51f4038dc17e6313cf831d4f02281c2a468bde0fafd37f1bf882729e7fd\\\n",
    "3000000006a47304402207899531a52d59a6de200179928ca900254a36b8dff8bb75f5f5d71b1c\\\n",
    "dc26125022008b422690b8461cb52c3cc30330b23d574351872b7c361e9aae3649071c1a716012\\\n",
    "1035d5c93d9ac96881f19ba1f686f15f009ded7c62efe85a872e6a19b43c15a2937feffffff567\\\n",
    "bf40595119d1bb8a3037c356efd56170b64cbcc160fb028fa10704b45d775000000006a4730440\\\n",
    "2204c7c7818424c7f7911da6cddc59655a70af1cb5eaf17c69dadbfc74ffa0b662f02207599e08\\\n",
    "bc8023693ad4e9527dc42c34210f7a7d1d1ddfc8492b654a11e7620a0012102158b46fbdff65d0\\\n",
    "172b7989aec8850aa0dae49abfb84c81ae6e5b251a58ace5cfeffffffd63a5e6c16e620f86f375\\\n",
    "925b21cabaf736c779f88fd04dcad51d26690f7f345010000006a47304402200633ea0d3314bea\\\n",
    "0d95b3cd8dadb2ef79ea8331ffe1e61f762c0f6daea0fabde022029f23b3e9c30f080446150b23\\\n",
    "852028751635dcee2be669c2a1686a4b5edf304012103ffd6f4a67e94aba353a00882e563ff272\\\n",
    "2eb4cff0ad6006e86ee20dfe7520d55feffffff0251430f00000000001976a914ab0c0b2e98b1a\\\n",
    "b6dbf67d4750b0a56244948a87988ac005a6202000000001976a9143c82d7df364eb6c75be8c80\\\n",
    "df2b3eda8db57397088ac46430600'\n",
    "stream = BytesIO(bytes.fromhex(hex_transaction))\n",
    "tx_obj = Tx.parse(stream)"
   ]
  },
  {
   "cell_type": "code",
   "execution_count": 3,
   "id": "24725fb0",
   "metadata": {},
   "outputs": [
    {
     "data": {
      "text/plain": [
       "1"
      ]
     },
     "execution_count": 3,
     "metadata": {},
     "output_type": "execute_result"
    }
   ],
   "source": [
    "tx_obj.version"
   ]
  },
  {
   "cell_type": "code",
   "execution_count": 4,
   "id": "dcc844fb",
   "metadata": {},
   "outputs": [
    {
     "data": {
      "text/plain": [
       "[9e067aedc661fca148e13953df75f8ca6eada9ce3b3d8d68631769ac60999156:1,\n",
       " d37f9e7282f81b7fd3af0fde8b462a1c28024f1d83cf13637ec18d03f4518feb:0,\n",
       " 75d7454b7010fa28b00f16cccb640b1756fd6e357c03a3b81b9d119505f47b56:0,\n",
       " 45f3f79066d251addc04fd889f776c73afab1cb22559376ff820e6166c5e3ad6:1]"
      ]
     },
     "execution_count": 4,
     "metadata": {},
     "output_type": "execute_result"
    }
   ],
   "source": [
    "tx_obj.tx_ins"
   ]
  },
  {
   "cell_type": "code",
   "execution_count": 5,
   "id": "99a0aece",
   "metadata": {},
   "outputs": [
    {
     "name": "stdout",
     "output_type": "stream",
     "text": [
      "304402207899531a52d59a6de200179928ca900254a36b8dff8bb75f5f5d71b1cdc26125022008b422690b8461cb52c3cc30330b23d574351872b7c361e9aae3649071c1a71601 035d5c93d9ac96881f19ba1f686f15f009ded7c62efe85a872e6a19b43c15a2937\n"
     ]
    }
   ],
   "source": [
    "print(tx_obj.tx_ins[1].script_sig)"
   ]
  },
  {
   "cell_type": "code",
   "execution_count": null,
   "id": "df4ce67d",
   "metadata": {},
   "outputs": [],
   "source": []
  }
 ],
 "metadata": {
  "kernelspec": {
   "display_name": "Python 3 (ipykernel)",
   "language": "python",
   "name": "python3"
  },
  "language_info": {
   "codemirror_mode": {
    "name": "ipython",
    "version": 3
   },
   "file_extension": ".py",
   "mimetype": "text/x-python",
   "name": "python",
   "nbconvert_exporter": "python",
   "pygments_lexer": "ipython3",
   "version": "3.8.10"
  }
 },
 "nbformat": 4,
 "nbformat_minor": 5
}
