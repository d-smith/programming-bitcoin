{
 "cells": [
  {
   "cell_type": "code",
   "execution_count": null,
   "id": "5b12c7b1",
   "metadata": {},
   "outputs": [],
   "source": [
    "%load_ext autoreload\n",
    "%autoreload 2\n",
    "\n",
    "from ecc import FieldElement"
   ]
  },
  {
   "cell_type": "code",
   "execution_count": null,
   "id": "406421c3",
   "metadata": {},
   "outputs": [],
   "source": [
    "a = FieldElement(7,13)\n",
    "b = FieldElement(6,13)\n",
    "print(a == b)"
   ]
  },
  {
   "cell_type": "code",
   "execution_count": null,
   "id": "a31c1317",
   "metadata": {},
   "outputs": [],
   "source": [
    "print(a == a)"
   ]
  },
  {
   "cell_type": "code",
   "execution_count": null,
   "id": "c9acbafe",
   "metadata": {},
   "outputs": [],
   "source": [
    "print(a != a)"
   ]
  },
  {
   "cell_type": "code",
   "execution_count": null,
   "id": "cc8d15ff",
   "metadata": {},
   "outputs": [],
   "source": [
    "print(a != b)"
   ]
  },
  {
   "cell_type": "code",
   "execution_count": null,
   "id": "d97da0f6",
   "metadata": {},
   "outputs": [],
   "source": [
    "a = FieldElement(44,57)"
   ]
  },
  {
   "cell_type": "code",
   "execution_count": null,
   "id": "68f09776",
   "metadata": {},
   "outputs": [],
   "source": [
    "b = FieldElement(33,57)"
   ]
  },
  {
   "cell_type": "code",
   "execution_count": null,
   "id": "86a14fcb",
   "metadata": {},
   "outputs": [],
   "source": [
    "print(a + b)"
   ]
  },
  {
   "cell_type": "code",
   "execution_count": null,
   "id": "4f12ee39",
   "metadata": {},
   "outputs": [],
   "source": [
    "c = a + b"
   ]
  },
  {
   "cell_type": "code",
   "execution_count": null,
   "id": "3ad578f6",
   "metadata": {},
   "outputs": [],
   "source": [
    "print(c)"
   ]
  },
  {
   "cell_type": "code",
   "execution_count": null,
   "id": "0ede62d6",
   "metadata": {},
   "outputs": [],
   "source": [
    "print(a)"
   ]
  },
  {
   "cell_type": "code",
   "execution_count": null,
   "id": "501e9be6",
   "metadata": {},
   "outputs": [],
   "source": [
    "type(a)"
   ]
  },
  {
   "cell_type": "code",
   "execution_count": null,
   "id": "6260064a",
   "metadata": {},
   "outputs": [],
   "source": [
    "type(c)"
   ]
  },
  {
   "cell_type": "code",
   "execution_count": null,
   "id": "45cbdea8",
   "metadata": {},
   "outputs": [],
   "source": [
    "FieldElement(11,19) - FieldElement(9,19)"
   ]
  },
  {
   "cell_type": "code",
   "execution_count": null,
   "id": "fdca31f6",
   "metadata": {},
   "outputs": [],
   "source": []
  }
 ],
 "metadata": {
  "kernelspec": {
   "display_name": "Python 3 (ipykernel)",
   "language": "python",
   "name": "python3"
  },
  "language_info": {
   "codemirror_mode": {
    "name": "ipython",
    "version": 3
   },
   "file_extension": ".py",
   "mimetype": "text/x-python",
   "name": "python",
   "nbconvert_exporter": "python",
   "pygments_lexer": "ipython3",
   "version": "3.8.10"
  }
 },
 "nbformat": 4,
 "nbformat_minor": 5
}
