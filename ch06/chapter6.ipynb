{
 "cells": [
  {
   "cell_type": "code",
   "execution_count": 6,
   "id": "ab49c7e8-c808-420a-8fee-c2a79931c2c9",
   "metadata": {},
   "outputs": [],
   "source": [
    "from script import Script"
   ]
  },
  {
   "cell_type": "code",
   "execution_count": 7,
   "id": "e9f9256b-bbfb-4e08-8a11-2a1c3808457e",
   "metadata": {},
   "outputs": [],
   "source": [
    "z = 0x7c076ff316692a3d7eb3c3bb0f8b1488cf72e1afcd929e29307032997a838a3d"
   ]
  },
  {
   "cell_type": "code",
   "execution_count": 8,
   "id": "214498cb-a8bb-4e9a-8720-a6aecda400bc",
   "metadata": {},
   "outputs": [],
   "source": [
    "sec = bytes.fromhex('04887387e452b8eacc4acfde10d9aaf7f6d9a0f975aabb10d006e\\\n",
    "4da568744d06c61de6d95231cd89026e286df3b6ae4a894a3378e393e93a0f45b666329a0ae34')"
   ]
  },
  {
   "cell_type": "code",
   "execution_count": 9,
   "id": "13e2c5d1-d3dd-43a1-b833-b84f7cfe42ed",
   "metadata": {},
   "outputs": [],
   "source": [
    "sig = bytes.fromhex('3045022000eff69ef2b1bd93a66ed5219add4fb51e11a840f4048\\\n",
    "76325a1e8ffe0529a2c022100c7207fee197d27c618aea621406f6bf5ef6fca38681d82b2f06fd\\\n",
    "dbdce6feab601')"
   ]
  },
  {
   "cell_type": "code",
   "execution_count": 10,
   "id": "32a22b5c-f56d-43f8-b461-61e871b4495f",
   "metadata": {},
   "outputs": [],
   "source": [
    "script_pubkey = Script([sec, 0xac]) "
   ]
  },
  {
   "cell_type": "code",
   "execution_count": 11,
   "id": "2ada187d-d040-44c7-8544-8643db6e0db4",
   "metadata": {},
   "outputs": [
    {
     "data": {
      "text/plain": [
       "04887387e452b8eacc4acfde10d9aaf7f6d9a0f975aabb10d006e4da568744d06c61de6d95231cd89026e286df3b6ae4a894a3378e393e93a0f45b666329a0ae34 OP_CHECKSIG"
      ]
     },
     "execution_count": 11,
     "metadata": {},
     "output_type": "execute_result"
    }
   ],
   "source": [
    "script_pubkey"
   ]
  },
  {
   "cell_type": "code",
   "execution_count": 12,
   "id": "a82d44cc-6818-4f79-93fd-90d4eabca5e8",
   "metadata": {},
   "outputs": [],
   "source": [
    "script_sig = Script([sig])"
   ]
  },
  {
   "cell_type": "code",
   "execution_count": 13,
   "id": "3a322d7b-acef-4038-867b-2f6d3e52b88b",
   "metadata": {},
   "outputs": [
    {
     "data": {
      "text/plain": [
       "3045022000eff69ef2b1bd93a66ed5219add4fb51e11a840f404876325a1e8ffe0529a2c022100c7207fee197d27c618aea621406f6bf5ef6fca38681d82b2f06fddbdce6feab601"
      ]
     },
     "execution_count": 13,
     "metadata": {},
     "output_type": "execute_result"
    }
   ],
   "source": [
    "script_sig"
   ]
  },
  {
   "cell_type": "code",
   "execution_count": 14,
   "id": "e7790ecb-1228-4da8-8483-5924a19b0eae",
   "metadata": {},
   "outputs": [],
   "source": [
    "combined_script = script_sig + script_pubkey"
   ]
  },
  {
   "cell_type": "code",
   "execution_count": 15,
   "id": "7289da90-55ba-4513-abf0-006178cb343a",
   "metadata": {},
   "outputs": [
    {
     "name": "stdout",
     "output_type": "stream",
     "text": [
      "True\n"
     ]
    }
   ],
   "source": [
    "print(combined_script.evaluate(z))"
   ]
  },
  {
   "cell_type": "code",
   "execution_count": 20,
   "id": "a662c950-ac3e-4ae1-84e9-4621a57033a5",
   "metadata": {},
   "outputs": [],
   "source": [
    "# Ex 3\n",
    "\n",
    "# `56 = OP_6`\n",
    "# `76 = OP_DUP`\n",
    "# `87 = OP_EQUAL`\n",
    "# `93 = OP_ADD`\n",
    "# `95 = OP_MUL`\n",
    "\n",
    "\n",
    "# The script conbined with sigscript x\n",
    "\n",
    "# x\n",
    "# OP_DUP\n",
    "# OP_DUP\n",
    "# OP_MUL\n",
    "# OP_ADD\n",
    "# OP_6\n",
    "# OP_EQUAL\n",
    "\n",
    "# stack progression\n",
    "\n",
    "# x\n",
    "\n",
    "# x\n",
    "# x\n",
    "\n",
    "\n",
    "# x\n",
    "# x\n",
    "# x\n",
    "\n",
    "# x * x\n",
    "# x\n",
    "\n",
    "# x * x + x\n",
    "# 6\n",
    "# x * x + x == 6\n",
    "\n",
    "# So... OP_2 should be sigscript"
   ]
  },
  {
   "cell_type": "code",
   "execution_count": 22,
   "id": "7e274c48-c71e-4c90-b83d-5e84bad72730",
   "metadata": {},
   "outputs": [
    {
     "data": {
      "text/plain": [
       "True"
      ]
     },
     "execution_count": 22,
     "metadata": {},
     "output_type": "execute_result"
    }
   ],
   "source": [
    "script_pub_key = Script([0x76, 0x76, 0x95, 0x93, 0x56, 0x87])\n",
    "script_sig = Script([0x52])\n",
    "combined =  script_sig +script_pub_key\n",
    "combined.evaluate(0)"
   ]
  },
  {
   "cell_type": "code",
   "execution_count": null,
   "id": "61cb6560-395e-44c5-8d26-9ca16f75a3ec",
   "metadata": {},
   "outputs": [],
   "source": []
  }
 ],
 "metadata": {
  "kernelspec": {
   "display_name": "Python 3 (ipykernel)",
   "language": "python",
   "name": "python3"
  },
  "language_info": {
   "codemirror_mode": {
    "name": "ipython",
    "version": 3
   },
   "file_extension": ".py",
   "mimetype": "text/x-python",
   "name": "python",
   "nbconvert_exporter": "python",
   "pygments_lexer": "ipython3",
   "version": "3.9.6"
  }
 },
 "nbformat": 4,
 "nbformat_minor": 5
}
