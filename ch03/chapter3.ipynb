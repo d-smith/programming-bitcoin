{
 "cells": [
  {
   "cell_type": "code",
   "execution_count": null,
   "id": "db64a4ec",
   "metadata": {},
   "outputs": [],
   "source": [
    "from importlib import reload\n",
    "from helper import run\n",
    "import ecc\n",
    "import helper\n",
    "\n",
    "from ecc import FieldElement, Point"
   ]
  },
  {
   "cell_type": "code",
   "execution_count": null,
   "id": "d524269e",
   "metadata": {},
   "outputs": [],
   "source": [
    "a = FieldElement(num=0, prime=223)\n",
    "b = FieldElement(num=7, prime=223)\n",
    "x = FieldElement(num=192, prime=223)\n",
    "y = FieldElement(num=105, prime=223)\n",
    "p1 = Point(x, y, a, b)\n",
    "print(p1)"
   ]
  },
  {
   "cell_type": "code",
   "execution_count": null,
   "id": "eb90dd99",
   "metadata": {},
   "outputs": [],
   "source": [
    "reload(ecc)\n",
    "run(ecc.ECCTest('test_on_curve'))"
   ]
  },
  {
   "cell_type": "code",
   "execution_count": null,
   "id": "c34b3b8a",
   "metadata": {},
   "outputs": [],
   "source": [
    "prime = 223\n",
    "a = FieldElement(num=0, prime=prime)\n",
    "b = FieldElement(num=7, prime=prime)\n",
    "x1 = FieldElement(num=192, prime=prime)\n",
    "y1 = FieldElement(num=105, prime=prime)\n",
    "x2 = FieldElement(num=17, prime=prime)\n",
    "y2 = FieldElement(num=56, prime=prime)\n",
    "p1 = Point(x1, y1, a, b)\n",
    "p2 = Point(x2, y2, a, b)\n",
    "print(p1+p2)\n",
    "#Point(170,142)_0_7 FieldElement(223)"
   ]
  },
  {
   "cell_type": "code",
   "execution_count": null,
   "id": "3b03503d",
   "metadata": {},
   "outputs": [],
   "source": [
    "# F223 \n",
    "# (170,142) + (60,139)\n",
    "# Canonical form is y^{2}=x^{3}+ax+b\n",
    "prime = 223\n",
    "a = FieldElement(num=0, prime=prime)\n",
    "b = FieldElement(num=7, prime=prime)\n",
    "x1 = FieldElement(num=170, prime=prime)\n",
    "y1 = FieldElement(num=142, prime=prime)\n",
    "x2 = FieldElement(num=60, prime=prime)\n",
    "y2 = FieldElement(num=139, prime=prime)\n",
    "p1 = Point(x1, y1, a, b)\n",
    "p2 = Point(x2, y2, a, b)\n",
    "print(p1+p2)\n"
   ]
  },
  {
   "cell_type": "code",
   "execution_count": null,
   "id": "37c49c9e",
   "metadata": {},
   "outputs": [],
   "source": [
    "# Scalar multiplication\n",
    "\n",
    "reload(ecc)\n",
    "prime = 223\n",
    "a = FieldElement(0, prime)\n",
    "b = FieldElement(7, prime)\n",
    "\n",
    "x = FieldElement(47, prime)\n",
    "y = FieldElement(71, prime)\n",
    "p = Point(x, y, a, b)\n",
    "for s in range(1,21):\n",
    "    result = s*p\n",
    "    print('{}*(47,71)=({},{})'.format(s,result.x.num,result.y.num))\n",
    "\n"
   ]
  },
  {
   "cell_type": "markdown",
   "id": "c6d88581",
   "metadata": {},
   "source": [
    "### Groups\n",
    "\n",
    "Combining Fields with Elliptic Curves bring us to methematical Groups.\n",
    "\n",
    "* For public key cryptography we want finite cyclic groups\n",
    "* We can take a generator point from an elliptic curve over a field group and generate a finite cyclic group\n",
    "* Groups have a single operation - point addition\n",
    "\n",
    "Group Properties\n",
    "\n",
    "* Identity - A + 0 = A\n",
    "    * Identity is the point at infinity\n",
    "* Closure - aG +bG = (a+b)G\n",
    "* Invertability - If aG is in the group, (n-a)G is in the group\n",
    "* Commutivity - aG + bG = bG + aG\n",
    "* Associativity - aG + (bG + cG) = (aG + bG) + cG"
   ]
  },
  {
   "cell_type": "code",
   "execution_count": null,
   "id": "217fc78e",
   "metadata": {},
   "outputs": [],
   "source": [
    "# Order of group\n",
    "reload(ecc)\n",
    "prime = 223\n",
    "a = FieldElement(0, prime)\n",
    "b = FieldElement(7, prime)\n",
    "x = FieldElement(15, prime)\n",
    "y = FieldElement(86, prime)\n",
    "p = Point(x, y, a, b)\n",
    "inf = Point(None, None, a, b)\n",
    "product = p\n",
    "count = 1\n",
    "print(product)\n",
    "while product != inf:\n",
    "    product += p\n",
    "    print(product)\n",
    "    count += 1\n",
    "print(count)\n",
    "\n"
   ]
  },
  {
   "cell_type": "markdown",
   "id": "e616d592",
   "metadata": {},
   "source": [
    "### Curve for Cryptography\n",
    "\n",
    "Defining a curve for public key cryptography involves\n",
    "\n",
    "* Specifying the a and b of the curve  $y^{2}=x^{3}+ax+b$\n",
    "* Specify the prime of the finite field\n",
    "* Specify the x and y of the generator point G\n",
    "* Specify the order of the group genated by G, n\n",
    "\n",
    "For bitcoin:\n",
    "\n",
    "* a = 0, b = 7, making the equation $y^{2} = x3 + 7$\n",
    "* $p = 2^{256} – 2^{32} – 977$\n",
    "* $G_x$ = 0x79be667ef9dcbbac55a06295ce870b07029bfcdb2dce28d959f2815b16f81798\n",
    "* $G_y$ = 0x483ada7726a3c4655da4fbfc0e1108a8fd17b448a68554199c47d08ffb10d4b8\n",
    "* n = 0xfffffffffffffffffffffffffffffffebaaedce6af48a03bbfd25e8cd0364141\n"
   ]
  },
  {
   "cell_type": "code",
   "execution_count": null,
   "id": "6616e986",
   "metadata": {},
   "outputs": [],
   "source": [
    "p = 2**256 - 2**32 - 977\n",
    "gx = 0x79be667ef9dcbbac55a06295ce870b07029bfcdb2dce28d959f2815b16f81798\n",
    "gy = 0x483ada7726a3c4655da4fbfc0e1108a8fd17b448a68554199c47d08ffb10d4b8\n",
    "n = 0xfffffffffffffffffffffffffffffffebaaedce6af48a03bbfd25e8cd0364141"
   ]
  },
  {
   "cell_type": "code",
   "execution_count": null,
   "id": "b2e7c92a",
   "metadata": {},
   "outputs": [],
   "source": [
    "# Is G on the curve?\n",
    "print(gy**2 % p == (gx**3 + 7) % p)"
   ]
  },
  {
   "cell_type": "code",
   "execution_count": null,
   "id": "854b4bf6",
   "metadata": {},
   "outputs": [],
   "source": [
    "# Does the generator point G have order n?\n",
    "x = FieldElement(gx, p)\n",
    "y = FieldElement(gy, p)\n",
    "seven = FieldElement(7, p)\n",
    "zero = FieldElement(0, p)\n",
    "G = Point(x, y, zero, seven)\n",
    "print(n*G)"
   ]
  },
  {
   "cell_type": "code",
   "execution_count": null,
   "id": "2509bc2f",
   "metadata": {},
   "outputs": [],
   "source": []
  }
 ],
 "metadata": {
  "kernelspec": {
   "display_name": "Python 3 (ipykernel)",
   "language": "python",
   "name": "python3"
  },
  "language_info": {
   "codemirror_mode": {
    "name": "ipython",
    "version": 3
   },
   "file_extension": ".py",
   "mimetype": "text/x-python",
   "name": "python",
   "nbconvert_exporter": "python",
   "pygments_lexer": "ipython3",
   "version": "3.8.10"
  }
 },
 "nbformat": 4,
 "nbformat_minor": 5
}
