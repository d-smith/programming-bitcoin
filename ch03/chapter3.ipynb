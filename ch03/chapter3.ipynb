{
 "cells": [
  {
   "cell_type": "code",
   "execution_count": 1,
   "id": "db64a4ec",
   "metadata": {},
   "outputs": [],
   "source": [
    "from importlib import reload\n",
    "from helper import run\n",
    "import ecc\n",
    "import helper\n",
    "\n",
    "from ecc import FieldElement, Point"
   ]
  },
  {
   "cell_type": "code",
   "execution_count": 2,
   "id": "d524269e",
   "metadata": {},
   "outputs": [
    {
     "name": "stdout",
     "output_type": "stream",
     "text": [
      "Point(FieldElement_223(192),FieldElement_223(105),FieldElement_223(0),FieldElement_223(7))\n"
     ]
    }
   ],
   "source": [
    "a = FieldElement(num=0, prime=223)\n",
    "b = FieldElement(num=7, prime=223)\n",
    "x = FieldElement(num=192, prime=223)\n",
    "y = FieldElement(num=105, prime=223)\n",
    "p1 = Point(x, y, a, b)\n",
    "print(p1)"
   ]
  },
  {
   "cell_type": "code",
   "execution_count": 3,
   "id": "eb90dd99",
   "metadata": {},
   "outputs": [
    {
     "name": "stderr",
     "output_type": "stream",
     "text": [
      ".\n",
      "----------------------------------------------------------------------\n",
      "Ran 1 test in 0.001s\n",
      "\n",
      "OK\n"
     ]
    }
   ],
   "source": [
    "reload(ecc)\n",
    "run(ecc.ECCTest('test_on_curve'))"
   ]
  },
  {
   "cell_type": "code",
   "execution_count": 4,
   "id": "c34b3b8a",
   "metadata": {},
   "outputs": [
    {
     "name": "stdout",
     "output_type": "stream",
     "text": [
      "Point(FieldElement_223(170),FieldElement_223(142),FieldElement_223(0),FieldElement_223(7))\n"
     ]
    }
   ],
   "source": [
    "prime = 223\n",
    "a = FieldElement(num=0, prime=prime)\n",
    "b = FieldElement(num=7, prime=prime)\n",
    "x1 = FieldElement(num=192, prime=prime)\n",
    "y1 = FieldElement(num=105, prime=prime)\n",
    "x2 = FieldElement(num=17, prime=prime)\n",
    "y2 = FieldElement(num=56, prime=prime)\n",
    "p1 = Point(x1, y1, a, b)\n",
    "p2 = Point(x2, y2, a, b)\n",
    "print(p1+p2)\n",
    "#Point(170,142)_0_7 FieldElement(223)"
   ]
  },
  {
   "cell_type": "code",
   "execution_count": 5,
   "id": "3b03503d",
   "metadata": {},
   "outputs": [
    {
     "name": "stdout",
     "output_type": "stream",
     "text": [
      "Point(FieldElement_223(220),FieldElement_223(181),FieldElement_223(0),FieldElement_223(7))\n"
     ]
    }
   ],
   "source": [
    "# F223 \n",
    "# (170,142) + (60,139)\n",
    "# Canonical form is y^{2}=x^{3}+ax+b\n",
    "prime = 223\n",
    "a = FieldElement(num=0, prime=prime)\n",
    "b = FieldElement(num=7, prime=prime)\n",
    "x1 = FieldElement(num=170, prime=prime)\n",
    "y1 = FieldElement(num=142, prime=prime)\n",
    "x2 = FieldElement(num=60, prime=prime)\n",
    "y2 = FieldElement(num=139, prime=prime)\n",
    "p1 = Point(x1, y1, a, b)\n",
    "p2 = Point(x2, y2, a, b)\n",
    "print(p1+p2)\n"
   ]
  },
  {
   "cell_type": "code",
   "execution_count": 6,
   "id": "37c49c9e",
   "metadata": {},
   "outputs": [
    {
     "name": "stdout",
     "output_type": "stream",
     "text": [
      "1*(47,71)=(47,71)\n",
      "2*(47,71)=(36,111)\n",
      "3*(47,71)=(15,137)\n",
      "4*(47,71)=(194,51)\n",
      "5*(47,71)=(126,96)\n",
      "6*(47,71)=(139,137)\n",
      "7*(47,71)=(92,47)\n",
      "8*(47,71)=(116,55)\n",
      "9*(47,71)=(69,86)\n",
      "10*(47,71)=(154,150)\n",
      "11*(47,71)=(154,73)\n",
      "12*(47,71)=(69,137)\n",
      "13*(47,71)=(116,168)\n",
      "14*(47,71)=(92,176)\n",
      "15*(47,71)=(139,86)\n",
      "16*(47,71)=(126,127)\n",
      "17*(47,71)=(194,172)\n",
      "18*(47,71)=(15,86)\n",
      "19*(47,71)=(36,112)\n",
      "20*(47,71)=(47,152)\n"
     ]
    }
   ],
   "source": [
    "# Scalar multiplication\n",
    "\n",
    "reload(ecc)\n",
    "prime = 223\n",
    "a = FieldElement(0, prime)\n",
    "b = FieldElement(7, prime)\n",
    "\n",
    "x = FieldElement(47, prime)\n",
    "y = FieldElement(71, prime)\n",
    "p = Point(x, y, a, b)\n",
    "for s in range(1,21):\n",
    "    result = s*p\n",
    "    print('{}*(47,71)=({},{})'.format(s,result.x.num,result.y.num))\n",
    "\n"
   ]
  },
  {
   "cell_type": "markdown",
   "id": "c6d88581",
   "metadata": {},
   "source": [
    "### Groups\n",
    "\n",
    "Combining Fields with Elliptic Curves bring us to methematical Groups.\n",
    "\n",
    "* For public key cryptography we want finite cyclic groups\n",
    "* We can take a generator point from an elliptic curve over a field group and generate a finite cyclic group\n",
    "* Groups have a single operation - point addition\n",
    "\n",
    "Group Properties\n",
    "\n",
    "* Identity - A + 0 = A\n",
    "    * Identity is the point at infinity\n",
    "* Closure - aG +bG = (a+b)G\n",
    "* Invertability - If aG is in the group, (n-a)G is in the group\n",
    "* Commutivity - aG + bG = bG + aG\n",
    "* Associativity - aG + (bG + cG) = (aG + bG) + cG"
   ]
  },
  {
   "cell_type": "code",
   "execution_count": 7,
   "id": "217fc78e",
   "metadata": {},
   "outputs": [
    {
     "name": "stdout",
     "output_type": "stream",
     "text": [
      "Point(FieldElement_223(15),FieldElement_223(86),FieldElement_223(0),FieldElement_223(7))\n",
      "Point(FieldElement_223(139),FieldElement_223(86),FieldElement_223(0),FieldElement_223(7))\n",
      "Point(FieldElement_223(69),FieldElement_223(137),FieldElement_223(0),FieldElement_223(7))\n",
      "Point(FieldElement_223(69),FieldElement_223(86),FieldElement_223(0),FieldElement_223(7))\n",
      "Point(FieldElement_223(139),FieldElement_223(137),FieldElement_223(0),FieldElement_223(7))\n",
      "Point(FieldElement_223(15),FieldElement_223(137),FieldElement_223(0),FieldElement_223(7))\n",
      "Point(None,None,FieldElement_223(0),FieldElement_223(7))\n",
      "7\n"
     ]
    }
   ],
   "source": [
    "# Order of group\n",
    "reload(ecc)\n",
    "prime = 223\n",
    "a = FieldElement(0, prime)\n",
    "b = FieldElement(7, prime)\n",
    "x = FieldElement(15, prime)\n",
    "y = FieldElement(86, prime)\n",
    "p = Point(x, y, a, b)\n",
    "inf = Point(None, None, a, b)\n",
    "product = p\n",
    "count = 1\n",
    "print(product)\n",
    "while product != inf:\n",
    "    product += p\n",
    "    print(product)\n",
    "    count += 1\n",
    "print(count)\n",
    "\n"
   ]
  },
  {
   "cell_type": "markdown",
   "id": "e616d592",
   "metadata": {},
   "source": [
    "### Curve for Cryptography\n",
    "\n",
    "Defining a curve for public key cryptography involves\n",
    "\n",
    "* Specifying the a and b of the curve  $y^{2}=x^{3}+ax+b$\n",
    "* Specify the prime of the finite field\n",
    "* Specify the x and y of the generator point G\n",
    "* Specify the order of the group genated by G, n\n",
    "\n",
    "For bitcoin:\n",
    "\n",
    "* a = 0, b = 7, making the equation $y^{2} = x3 + 7$\n",
    "* $p = 2^{256} – 2^{32} – 977$\n",
    "* $G_x$ = 0x79be667ef9dcbbac55a06295ce870b07029bfcdb2dce28d959f2815b16f81798\n",
    "* $G_y$ = 0x483ada7726a3c4655da4fbfc0e1108a8fd17b448a68554199c47d08ffb10d4b8\n",
    "* n = 0xfffffffffffffffffffffffffffffffebaaedce6af48a03bbfd25e8cd0364141\n"
   ]
  },
  {
   "cell_type": "code",
   "execution_count": 8,
   "id": "6616e986",
   "metadata": {},
   "outputs": [],
   "source": [
    "p = 2**256 - 2**32 - 977\n",
    "gx = 0x79be667ef9dcbbac55a06295ce870b07029bfcdb2dce28d959f2815b16f81798\n",
    "gy = 0x483ada7726a3c4655da4fbfc0e1108a8fd17b448a68554199c47d08ffb10d4b8\n",
    "n = 0xfffffffffffffffffffffffffffffffebaaedce6af48a03bbfd25e8cd0364141"
   ]
  },
  {
   "cell_type": "code",
   "execution_count": 9,
   "id": "b2e7c92a",
   "metadata": {},
   "outputs": [
    {
     "name": "stdout",
     "output_type": "stream",
     "text": [
      "True\n"
     ]
    }
   ],
   "source": [
    "# Is G on the curve?\n",
    "print(gy**2 % p == (gx**3 + 7) % p)"
   ]
  },
  {
   "cell_type": "code",
   "execution_count": 10,
   "id": "854b4bf6",
   "metadata": {},
   "outputs": [
    {
     "name": "stdout",
     "output_type": "stream",
     "text": [
      "Point(None,None,FieldElement_115792089237316195423570985008687907853269984665640564039457584007908834671663(0),FieldElement_115792089237316195423570985008687907853269984665640564039457584007908834671663(7))\n"
     ]
    }
   ],
   "source": [
    "# Does the generator point G have order n?\n",
    "x = FieldElement(gx, p)\n",
    "y = FieldElement(gy, p)\n",
    "seven = FieldElement(7, p)\n",
    "zero = FieldElement(0, p)\n",
    "G = Point(x, y, zero, seven)\n",
    "print(n*G)"
   ]
  },
  {
   "cell_type": "markdown",
   "id": "1f60e141",
   "metadata": {},
   "source": [
    "### Public Key Cryptography\n",
    "\n",
    "Public key cryptography takes advantage of the discrete log properties of scalar multiplication of points on an elliptic curve over a field: there is a method to multiply a point by a scalar, but because of the non-linear properties of point addition there is not defined way to perform division.\n",
    "\n",
    "The key operation is P = eG - we can easily compute P knowing e and G, but we cannot easily compute e when we know P and G. In public key cryptography, P is the public key, and e is the private key. In this set up, e is a 256-bit number, and P is a coordinate (x,y) where x and y ads 256 bit numbers.\n",
    "\n",
    "\n",
    "### Signature Algorithm\n",
    "\n",
    "ECDSA - Elliptic Curve Digital Signature Algorithm\n",
    "\n",
    "* The secret is the e satisfying eG = P\n",
    "* The target in the book;s william tell analogy is a random number k, and target it like kG = R, and we only care about the x coordinate of R, denoted as r\n",
    "* The following is equivalent to the discrete log problem, where u and v != 0 can be selected by the signer and P and G are known: uG + vP = kG\n",
    "    * The above implies vP = G(v - u)\n",
    "    * Since v is not equal to zero we can divide to get P = ((k - u)/v)G\n",
    "    * If we know e then we can get eG =  ((k - u)/v)G\n",
    "    * If you can solve uG + vP = kG with some (u,v) you either know e or have broken the discrete log problem\n",
    "    \n",
    "* The purpose of the shooting needs to also be incorporated - in general this is a signature hash, denoted by z.\n",
    "* This is incorporated into uG + vP as u = z/s, v = r/s\n",
    "* uG + vP = R = kG\n",
    "* uG = veG = kG\n",
    "* u + ve = k\n",
    "* z/s + re/s = k\n",
    "* s = (z + re)/k\n",
    "\n",
    "\n",
    "Verification is easy\n",
    "\n",
    "* With v not equal to zero uG + vP = (z/s)G + (re/s)G = = ((z+re)/s)G = (z+re)/((z+re)/k))G = kG = R = (r,y) \n",
    "    "
   ]
  },
  {
   "cell_type": "code",
   "execution_count": 11,
   "id": "0e354325",
   "metadata": {},
   "outputs": [
    {
     "name": "stdout",
     "output_type": "stream",
     "text": [
      "True\n"
     ]
    }
   ],
   "source": [
    "# Signature validation\n",
    "\n",
    "reload(ecc)\n",
    "from ecc import S256Point, G, N\n",
    "\n",
    "z = 0xbc62d4b80d9e36da29c16c5d4d9f11731f36052c72401a76c23c0fb5a9b74423\n",
    "r = 0x37206a0610995c58074999cb9767b87af4c4978db68c06e8e6e81d282047a7c6\n",
    "s = 0x8ca63759c1157ebeaec0d03cecca119fc9a75bf8e6d0fa65c841c8e2738cdaec\n",
    "px = 0x04519fac3d910ca7e7138f7013706f619fa8f033e6ec6e09370ea38cee6a7574\n",
    "py = 0x82b51eab8c27c66e26c858a079bcdf4f1ada34cec420cafc7eac1a42216fb6c4\n",
    "point = S256Point(px, py)\n",
    "s_inv = pow(s, N-2, N)  # Fermat's little theorem for calc inverse this way\n",
    "\n",
    "u = z * s_inv % N\n",
    "v = r * s_inv % N  \n",
    "print((u*G + v*point).x.num == r)"
   ]
  },
  {
   "cell_type": "code",
   "execution_count": 12,
   "id": "a1bd7abe",
   "metadata": {},
   "outputs": [
    {
     "name": "stdout",
     "output_type": "stream",
     "text": [
      "Point(028d003eab2e428d11983f3e97c3fa0addf3b42740df0d211795ffb3be2f6c52,0ae987b9ec6ea159c78cb2a937ed89096fb218d9e7594f02b547526d8cd309e2,0000000000000000000000000000000000000000000000000000000000000000,0000000000000000000000000000000000000000000000000000000000000007)\n",
      "0x231c6f3d980a6b0fb7152f85cee7eb52bf92433d9919b9c5218cb08e79cce78\n",
      "0x2b698a0f0a4041b77e63488ad48c23e8e8838dd1fb7520408b121697b782ef22\n",
      "0xbb14e602ef9e3f872e25fad328466b34e6734b7a0fcd58b1eb635447ffae8cb9\n"
     ]
    }
   ],
   "source": [
    "# Signature gen\n",
    "\n",
    "from ecc import S256Point, G, N\n",
    "from helper import hash256\n",
    "e = int.from_bytes(hash256(b'my secret'), 'big')  \n",
    "z = int.from_bytes(hash256(b'my message'), 'big')  \n",
    "k = 1234567890  \n",
    "r = (k*G).x.num  \n",
    "k_inv = pow(k, N-2, N)\n",
    "s = (z+r*e) * k_inv % N  \n",
    "point = e*G  \n",
    "print(point)\n",
    "print(hex(z))\n",
    "print(hex(r))\n",
    "print(hex(s))\n",
    "\n"
   ]
  },
  {
   "cell_type": "markdown",
   "id": "6f3cd3d9",
   "metadata": {},
   "source": [
    "Exerise 7\n",
    "\n",
    "Sign the following message with the secret:\n",
    "\n",
    "```\n",
    "e = 12345\n",
    "z = int.from_bytes(hash256('Programming Bitcoin!'), 'big')\n",
    "```"
   ]
  },
  {
   "cell_type": "code",
   "execution_count": 13,
   "id": "02d0da99",
   "metadata": {},
   "outputs": [],
   "source": [
    "import helper\n",
    "e = 12345\n",
    "z = int.from_bytes(hash256(b'Programming Bitcoin!'), 'big')"
   ]
  },
  {
   "cell_type": "code",
   "execution_count": 14,
   "id": "3ea3c45d",
   "metadata": {},
   "outputs": [
    {
     "name": "stdout",
     "output_type": "stream",
     "text": [
      "Point(f01d6b9018ab421dd410404cb869072065522bf85734008f105cf385a023a80f,0eba29d0f0c5408ed681984dc525982abefccd9f7ff01dd26da4999cf3f6a295,0000000000000000000000000000000000000000000000000000000000000000,0000000000000000000000000000000000000000000000000000000000000007)\n"
     ]
    }
   ],
   "source": [
    "from ecc import S256Point, G, N\n",
    "from helper import hash256\n",
    "e = 12345\n",
    "z = int.from_bytes(hash256(b'Programming Bitcoin!'), 'big')\n",
    "k = 1234567890\n",
    "r = (k*G).x.num\n",
    "k_inv = pow(k, N-2, N)\n",
    "s = (z+r*e) * k_inv % N\n",
    "print(e*G)\n",
    "\n"
   ]
  },
  {
   "cell_type": "code",
   "execution_count": 15,
   "id": "50539b37",
   "metadata": {},
   "outputs": [],
   "source": [
    "reload(ecc)\n",
    "from ecc import PrivateKey\n",
    "pk = PrivateKey(e)"
   ]
  },
  {
   "cell_type": "code",
   "execution_count": 16,
   "id": "56d3254d",
   "metadata": {},
   "outputs": [
    {
     "name": "stdout",
     "output_type": "stream",
     "text": [
      "Signature(8eeacac05e4c29e793b5287ed044637132ce9ead7fded533e7441d87a8dc9c23,36674f81f10c7fb347c1224bd546813ea24ada6f642c02f2248516e3aa8cb303)\n"
     ]
    }
   ],
   "source": [
    "sig = pk.sign(z)\n",
    "print(sig)"
   ]
  },
  {
   "cell_type": "code",
   "execution_count": 17,
   "id": "270f99cb",
   "metadata": {},
   "outputs": [],
   "source": [
    "p = e*G"
   ]
  },
  {
   "cell_type": "code",
   "execution_count": 18,
   "id": "d0f0798b",
   "metadata": {},
   "outputs": [
    {
     "data": {
      "text/plain": [
       "True"
      ]
     },
     "execution_count": 18,
     "metadata": {},
     "output_type": "execute_result"
    }
   ],
   "source": [
    "p.verify(z,sig)"
   ]
  },
  {
   "cell_type": "code",
   "execution_count": 24,
   "id": "2d6ff6a9",
   "metadata": {},
   "outputs": [
    {
     "name": "stdout",
     "output_type": "stream",
     "text": [
      "Point(4232a2baeea6faee2c34ca27952ca6d79c03fd27a36d8eab15fca56bebb3dc13,d608e5d50f17a09d5e870a6d76e83f5c5d7957c34f94c07ba52ae760f66ba401,0000000000000000000000000000000000000000000000000000000000000000,0000000000000000000000000000000000000000000000000000000000000007)\n"
     ]
    }
   ],
   "source": [
    "# From web3auth demo\n",
    "p = S256Point(0x4232a2baeea6faee2c34ca27952ca6d79c03fd27a36d8eab15fca56bebb3dc13, 0xd608e5d50f17a09d5e870a6d76e83f5c5d7957c34f94c07ba52ae760f66ba401)\n",
    "print(p)"
   ]
  },
  {
   "cell_type": "code",
   "execution_count": 31,
   "id": "462ef8d5",
   "metadata": {},
   "outputs": [],
   "source": [
    "s = 0x16e05ac34d7338afe1b596fa703ffe6e3051eda6558e55c8774b661d985ab93000e587a8f2118eeb7edd25fea0426e840923c60feb184cfd88837775208e7ddb1b"
   ]
  },
  {
   "cell_type": "code",
   "execution_count": 32,
   "id": "1b934f99",
   "metadata": {},
   "outputs": [],
   "source": [
    "z = 0xefedd0a9a0294228c3977d7fbb68c7d40279f8b408cf3e24ef1823b179709e58"
   ]
  },
  {
   "cell_type": "code",
   "execution_count": 33,
   "id": "1042ff69",
   "metadata": {},
   "outputs": [
    {
     "data": {
      "text/plain": [
       "False"
      ]
     },
     "execution_count": 33,
     "metadata": {},
     "output_type": "execute_result"
    }
   ],
   "source": [
    "p.verify(z,sig)"
   ]
  },
  {
   "cell_type": "code",
   "execution_count": null,
   "id": "51568502",
   "metadata": {},
   "outputs": [],
   "source": []
  }
 ],
 "metadata": {
  "kernelspec": {
   "display_name": "Python 3 (ipykernel)",
   "language": "python",
   "name": "python3"
  },
  "language_info": {
   "codemirror_mode": {
    "name": "ipython",
    "version": 3
   },
   "file_extension": ".py",
   "mimetype": "text/x-python",
   "name": "python",
   "nbconvert_exporter": "python",
   "pygments_lexer": "ipython3",
   "version": "3.8.10"
  }
 },
 "nbformat": 4,
 "nbformat_minor": 5
}
