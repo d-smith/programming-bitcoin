{
 "cells": [
  {
   "cell_type": "markdown",
   "id": "9a78bf14-3e76-4d0a-bc81-f4bd286ddb05",
   "metadata": {},
   "source": [
    "Transaction validation\n",
    "\n",
    "* Inputs are previously unspent\n",
    "* Sum of inputs is greater than or equal to the outputs\n",
    "* The SigScript unlocks the previous ScriptPubKey\n"
   ]
  },
  {
   "cell_type": "code",
   "execution_count": 2,
   "id": "93934640-399a-4354-a928-4bad2ca7933d",
   "metadata": {},
   "outputs": [
    {
     "name": "stdout",
     "output_type": "stream",
     "text": [
      "0100000001813f79011acb80925dfe69b3def355fe914bd1d96a3f5f71bf8303c6a989c7d1000000006b483045022100ed81ff192e75a3fd2304004dcadb746fa5e24c5031ccfcf21320b0277457c98f02207a986d955c6e0cb35d446a89d3f56100f4d7f67801c31967743a9c8e10615bed01210349fc4e631e3624a545de3f89f5d8684c7b8138bd94bdd531d2e213bf016b278afeffffff02a135ef01000000001976a914bc3b654dca7e56b04dca18f2566cdaf02e8d9ada88ac99c39800000000001976a9141c4bc762dd5423e332166702cb75f40df79fea1288ac19430600\n",
      "True\n"
     ]
    }
   ],
   "source": [
    "# Example - is this transaction attempting to make money out of thin air?\n",
    "\n",
    "from tx import Tx\n",
    "from io import BytesIO\n",
    "raw_tx = ('0100000001813f79011acb80925dfe69b3def355fe914bd1d96a3f5f71bf830\\\n",
    "3c6a989c7d1000000006b483045022100ed81ff192e75a3fd2304004dcadb746fa5e24c5031ccf\\\n",
    "cf21320b0277457c98f02207a986d955c6e0cb35d446a89d3f56100f4d7f67801c31967743a9c8\\\n",
    "e10615bed01210349fc4e631e3624a545de3f89f5d8684c7b8138bd94bdd531d2e213bf016b278\\\n",
    "afeffffff02a135ef01000000001976a914bc3b654dca7e56b04dca18f2566cdaf02e8d9ada88a\\\n",
    "c99c39800000000001976a9141c4bc762dd5423e332166702cb75f40df79fea1288ac19430600')\n",
    "print(raw_tx)\n",
    "stream = BytesIO(bytes.fromhex(raw_tx))\n",
    "transaction = Tx.parse(stream)\n",
    "print(transaction.fee() >= 0)  # <1>"
   ]
  },
  {
   "cell_type": "markdown",
   "id": "31e558cb-40f7-45b0-8e37-ce70a8df2bd5",
   "metadata": {},
   "source": [
    "ECDSA requires the public key P, the signature hash z, and the signature (r,s)"
   ]
  },
  {
   "cell_type": "code",
   "execution_count": 3,
   "id": "fe64b097-2628-4b92-b0c0-bbec88ecbe8e",
   "metadata": {},
   "outputs": [
    {
     "name": "stdout",
     "output_type": "stream",
     "text": [
      "True\n"
     ]
    }
   ],
   "source": [
    "from ecc import S256Point, Signature\n",
    "# SEC - standards for efficent cryptography - public key serialization\n",
    "sec = bytes.fromhex('0349fc4e631e3624a545de3f89f5d8684c7b8138bd94bdd531d2e\\\n",
    "213bf016b278a')\n",
    "# DER - distinguised encoding rules - for signatures\n",
    "der = bytes.fromhex('3045022100ed81ff192e75a3fd2304004dcadb746fa5e24c5031c\\\n",
    "cfcf21320b0277457c98f02207a986d955c6e0cb35d446a89d3f56100f4d7f67801c31967743a9\\\n",
    "c8e10615bed')\n",
    "z = 0x27e0c5994dec7824e56dec6b2fcb342eb7cdb0d0957c2fce9882f715e85d81a6\n",
    "point = S256Point.parse(sec)\n",
    "signature = Signature.parse(der)\n",
    "print(point.verify(z, signature))"
   ]
  },
  {
   "cell_type": "markdown",
   "id": "5d6443b4-796e-4e6a-86b1-fa56ee41d4e2",
   "metadata": {},
   "source": [
    "Getting the signature hash\n",
    "\n",
    "* Can't hash the transaction, since the signature itself is embedded in the SigScript\n",
    "* Transaction is modified before signing - a signature hash for each input is computed\n",
    "\n",
    "The process:\n",
    "\n",
    "1. Empty all ScriptSigs before checking (or for creating, probably has empty ScriptSigs when creating).\n",
    "2. Replace the SigScript of the transaction with ScriptPubKey of the previous transaction output\n",
    "3. Append the hash type encoded little-endian over 4 bytes\n",
    "\n",
    "The hash256 of the modified transaction can be taken, and the big-endian integer is taken as z"
   ]
  },
  {
   "cell_type": "code",
   "execution_count": 5,
   "id": "1fa98fed-6dcb-41f1-ba3d-c2116d7f2cdc",
   "metadata": {},
   "outputs": [
    {
     "name": "stdout",
     "output_type": "stream",
     "text": [
      "0x27e0c5994dec7824e56dec6b2fcb342eb7cdb0d0957c2fce9882f715e85d81a6\n"
     ]
    }
   ],
   "source": [
    "from helper import hash256\n",
    "modified_tx = bytes.fromhex('0100000001813f79011acb80925dfe69b3def355fe914\\\n",
    "bd1d96a3f5f71bf8303c6a989c7d1000000001976a914a802fc56c704ce87c42d7c92eb75e7896\\\n",
    "bdc41ae88acfeffffff02a135ef01000000001976a914bc3b654dca7e56b04dca18f2566cdaf02\\\n",
    "e8d9ada88ac99c39800000000001976a9141c4bc762dd5423e332166702cb75f40df79fea1288a\\\n",
    "c1943060001000000')\n",
    "h256 = hash256(modified_tx)\n",
    "z = int.from_bytes(h256, 'big')\n",
    "print(hex(z))\n"
   ]
  },
  {
   "cell_type": "code",
   "execution_count": 6,
   "id": "1cd64425-886b-404c-8490-2b703e75e4a0",
   "metadata": {},
   "outputs": [
    {
     "data": {
      "text/plain": [
       "True"
      ]
     },
     "execution_count": 6,
     "metadata": {},
     "output_type": "execute_result"
    }
   ],
   "source": [
    "# Putting it all together\n",
    "\n",
    "from ecc import S256Point, Signature\n",
    "sec = bytes.fromhex('0349fc4e631e3624a545de3f89f5d8684c7b8138bd94bdd531d2e\\\n",
    "213bf016b278a')\n",
    "der = bytes.fromhex('3045022100ed81ff192e75a3fd2304004dcadb746fa5e24c5031c\\\n",
    "cfcf21320b0277457c98f02207a986d955c6e0cb35d446a89d3f56100f4d7f67801c31967743a9\\\n",
    "c8e10615bed')\n",
    "z = 0x27e0c5994dec7824e56dec6b2fcb342eb7cdb0d0957c2fce9882f715e85d81a6\n",
    "point = S256Point.parse(sec)\n",
    "signature = Signature.parse(der)\n",
    "point.verify(z, signature)"
   ]
  },
  {
   "cell_type": "code",
   "execution_count": 1,
   "id": "db4db6d1-c83e-4e66-a916-c73dc8214d26",
   "metadata": {},
   "outputs": [
    {
     "data": {
      "text/plain": [
       "'mzTWLA2kJwZECywvGmkj8k2tVmVDpXLNq6'"
      ]
     },
     "execution_count": 1,
     "metadata": {},
     "output_type": "execute_result"
    }
   ],
   "source": [
    "from ecc import PrivateKey\n",
    "from helper import hash256, little_endian_to_int\n",
    "secret = little_endian_to_int(hash256(b\"test source\"))\n",
    "private_key = PrivateKey(secret)\n",
    "private_key.point.address(compressed=True, testnet=True)"
   ]
  },
  {
   "cell_type": "code",
   "execution_count": 2,
   "id": "ca9af498-a13c-4e00-9f82-006c4ec93dee",
   "metadata": {},
   "outputs": [
    {
     "data": {
      "text/plain": [
       "'mivh1dcR1Puy9NLCVzRnsoyBEqRrkmP3a4'"
      ]
     },
     "execution_count": 2,
     "metadata": {},
     "output_type": "execute_result"
    }
   ],
   "source": [
    "from ecc import PrivateKey\n",
    "from helper import hash256, little_endian_to_int\n",
    "secret2 = little_endian_to_int(hash256(b\"test destination\"))\n",
    "private_key2 = PrivateKey(secret2)\n",
    "private_key2.point.address(compressed=True, testnet=True)"
   ]
  },
  {
   "cell_type": "code",
   "execution_count": 5,
   "id": "529bf762-3ccb-436d-9008-f6f5c8a762a9",
   "metadata": {},
   "outputs": [
    {
     "name": "stdout",
     "output_type": "stream",
     "text": [
      "{\"txId\":\"77aed9d22ac34c4ec4554f48ef16d4b6f20a3f04806eee70972d7eb8e5802fc5\"}\n"
     ]
    }
   ],
   "source": [
    "# Fund the address\n",
    "!curl -X POST --data '{\"address\": \"mzTWLA2kJwZECywvGmkj8k2tVmVDpXLNq6\", \"amount\": 0.02}' http://localhost:3000/faucet"
   ]
  },
  {
   "cell_type": "markdown",
   "id": "c9eb90fa-2a5c-42f3-9a3e-7c6421c1658e",
   "metadata": {},
   "source": [
    "\n",
    "Can we send from the address controlled by our private key to the second address, receiving change back to our original address (not a recommended practive, but for simplicity)?"
   ]
  },
  {
   "cell_type": "code",
   "execution_count": 6,
   "id": "d95984f2-35f7-4563-9d66-f3f4ef8d9a33",
   "metadata": {},
   "outputs": [
    {
     "name": "stdout",
     "output_type": "stream",
     "text": [
      "tx: 7e9f1fa424900f3b493b910fe149d6de6ad9ec647723cb8dab732a2789ff2160\n",
      "version: 1\n",
      "tx_ins:\n",
      "77aed9d22ac34c4ec4554f48ef16d4b6f20a3f04806eee70972d7eb8e5802fc5:0\n",
      "tx_outs:\n",
      "998000:OP_DUP OP_HASH160 cfc377f37ec1c62f778b4518abda888c4303b71a OP_EQUALVERIFY OP_CHECKSIG\n",
      "1000000:OP_DUP OP_HASH160 25659a4b6caaf192c0ad254a929208f7b6069630 OP_EQUALVERIFY OP_CHECKSIG\n",
      "locktime: 0\n",
      "0100000001c52f80e5b87e2d9770ee6e80043f0af2b6d416ef484f55c44e4cc32ad2d9ae770000000000ffffffff02703a0f00000000001976a914cfc377f37ec1c62f778b4518abda888c4303b71a88ac40420f00000000001976a91425659a4b6caaf192c0ad254a929208f7b606963088ac00000000\n"
     ]
    }
   ],
   "source": [
    "from helper import decode_base58, SIGHASH_ALL\n",
    "from script import p2pkh_script, Script\n",
    "from tx import TxIn, TxOut, Tx\n",
    "\n",
    "# Source address has 2,000,000 satoshis - send half, guess 2000 for the txn fee, rest is change back 998,000\n",
    "\n",
    "prev_tx = bytes.fromhex('77aed9d22ac34c4ec4554f48ef16d4b6f20a3f04806eee70972d7eb8e5802fc5')\n",
    "prev_index = 0\n",
    "tx_in = TxIn(prev_tx, prev_index)\n",
    "tx_outs = []\n",
    "change_amount = int(998000)  \n",
    "change_h160 = decode_base58('mzTWLA2kJwZECywvGmkj8k2tVmVDpXLNq6')\n",
    "change_script = p2pkh_script(change_h160)\n",
    "change_output = TxOut(amount=change_amount, script_pubkey=change_script)\n",
    "target_amount = int(1000000)  \n",
    "target_h160 = decode_base58('mivh1dcR1Puy9NLCVzRnsoyBEqRrkmP3a4')\n",
    "target_script = p2pkh_script(target_h160)\n",
    "target_output = TxOut(amount=target_amount, script_pubkey=target_script)\n",
    "tx_obj = Tx(1, [tx_in], [change_output, target_output], 0, True)  \n",
    "print(tx_obj)\n",
    "print(tx_obj.serialize().hex())\n",
    "\n"
   ]
  },
  {
   "cell_type": "markdown",
   "id": "a04fcda2-3058-40ca-91bc-86babbfb957d",
   "metadata": {},
   "source": [
    "What does this look like if we decode it using the command line?\n",
    "\n",
    "```\n",
    "export RAW_TX=0100000001188e4a1df9fe602e8d627c2492374a3b8d79f496e7412d1d5044326d057bd18f0100000000ffffffff02703a0f00000000001976a91428145ab8d99d9d9d3197693fad5e389f03cf1c9488ac40420f00000000001976a9144c73ec04ab2c8658acb9017dcb0c18a7d7eb909488ac00000000\n",
    "\n",
    "bcli decoderawtransaction $RAW_TX\n",
    "{\n",
    "  \"txid\": \"47775e4ce1cb4550875bfba71b40ae6c2379ce18e900166226276fb647790682\",\n",
    "  \"hash\": \"47775e4ce1cb4550875bfba71b40ae6c2379ce18e900166226276fb647790682\",\n",
    "  \"version\": 1,\n",
    "  \"size\": 119,\n",
    "  \"vsize\": 119,\n",
    "  \"weight\": 476,\n",
    "  \"locktime\": 0,\n",
    "  \"vin\": [\n",
    "    {\n",
    "      \"txid\": \"8fd17b056d3244501d2d41e796f4798d3b4a3792247c628d2e60fef91d4a8e18\",\n",
    "      \"vout\": 1,\n",
    "      \"scriptSig\": {\n",
    "        \"asm\": \"\",\n",
    "        \"hex\": \"\"\n",
    "      },\n",
    "      \"sequence\": 4294967295\n",
    "    }\n",
    "  ],\n",
    "  \"vout\": [\n",
    "    {\n",
    "      \"value\": 0.00998000,\n",
    "      \"n\": 0,\n",
    "      \"scriptPubKey\": {\n",
    "        \"asm\": \"OP_DUP OP_HASH160 28145ab8d99d9d9d3197693fad5e389f03cf1c94 OP_EQUALVERIFY OP_CHECKSIG\",\n",
    "        \"desc\": \"addr(mjAshyUhcMxyP34vdeED6JByENT5SNZqaA)#x0ucj78a\",\n",
    "        \"hex\": \"76a91428145ab8d99d9d9d3197693fad5e389f03cf1c9488ac\",\n",
    "        \"address\": \"mjAshyUhcMxyP34vdeED6JByENT5SNZqaA\",\n",
    "        \"type\": \"pubkeyhash\"\n",
    "      }\n",
    "    },\n",
    "    {\n",
    "      \"value\": 0.01000000,\n",
    "      \"n\": 1,\n",
    "      \"scriptPubKey\": {\n",
    "        \"asm\": \"OP_DUP OP_HASH160 4c73ec04ab2c8658acb9017dcb0c18a7d7eb9094 OP_EQUALVERIFY OP_CHECKSIG\",\n",
    "        \"desc\": \"addr(mnVCX2m5UEapYf9UrvJj17D9i72XqikvHW)#m3f8ue7w\",\n",
    "        \"hex\": \"76a9144c73ec04ab2c8658acb9017dcb0c18a7d7eb909488ac\",\n",
    "        \"address\": \"mnVCX2m5UEapYf9UrvJj17D9i72XqikvHW\",\n",
    "        \"type\": \"pubkeyhash\"\n",
    "      }\n",
    "    }\n",
    "  ]\n",
    "}\n",
    "```"
   ]
  },
  {
   "cell_type": "code",
   "execution_count": 7,
   "id": "97809c63-58bc-441d-8be1-aab444151a75",
   "metadata": {},
   "outputs": [
    {
     "name": "stdout",
     "output_type": "stream",
     "text": [
      "3045022100ca8bc63b33b03c0c4083b7fd54da78a83cd47adb77b6dce35a0ab8821dc762cf02204d092271888c0df8880d58c7f9ed4b76500c1b2b0ac7a5f2eb9344684c143fad01 0236248429d51fdbe88896767819e5d573ab3f76dd7228da765e43da9937b8fa8d OP_DUP OP_HASH160 cfc377f37ec1c62f778b4518abda888c4303b71a OP_EQUALVERIFY OP_CHECKSIG\n",
      "True\n",
      "0100000001c52f80e5b87e2d9770ee6e80043f0af2b6d416ef484f55c44e4cc32ad2d9ae77000000006b483045022100ca8bc63b33b03c0c4083b7fd54da78a83cd47adb77b6dce35a0ab8821dc762cf02204d092271888c0df8880d58c7f9ed4b76500c1b2b0ac7a5f2eb9344684c143fad01210236248429d51fdbe88896767819e5d573ab3f76dd7228da765e43da9937b8fa8dffffffff02703a0f00000000001976a914cfc377f37ec1c62f778b4518abda888c4303b71a88ac40420f00000000001976a91425659a4b6caaf192c0ad254a929208f7b606963088ac00000000\n"
     ]
    }
   ],
   "source": [
    "# Sign the transaction\n",
    "\n",
    "from ecc import PrivateKey\n",
    "from helper import SIGHASH_ALL\n",
    "\n",
    "print(tx_obj.sign_input(0, private_key)) \n",
    "print(tx_obj.serialize().hex())"
   ]
  },
  {
   "cell_type": "markdown",
   "id": "f182b05b-3901-432d-a433-826dbc6d6ead",
   "metadata": {},
   "source": [
    "Send the transaction\n",
    "\n",
    "```\n",
    "export SIGNED=0100000001c52f80e5b87e2d9770ee6e80043f0af2b6d416ef484f55c44e4cc32ad2d9ae77000000006b483045022100ca8bc63b33b03c0c4083b7fd54da78a83cd47adb77b6dce35a0ab8821dc762cf02204d092271888c0df8880d58c7f9ed4b76500c1b2b0ac7a5f2eb9344684c143fad01210236248429d51fdbe88896767819e5d573ab3f76dd7228da765e43da9937b8fa8dffffffff02703a0f00000000001976a914cfc377f37ec1c62f778b4518abda888c4303b71a88ac40420f00000000001976a91425659a4b6caaf192c0ad254a929208f7b606963088ac00000000\n",
    "\n",
    "\n",
    "\n",
    "bcli -regtest sendrawtransaction $SIGNED\n",
    "6f536844530e97a11bfe8db1db88bd766b6004a9f99805ec94ac333d2b877f28\n",
    "\n",
    "curl localhost:3000/tx/6f536844530e97a11bfe8db1db88bd766b6004a9f99805ec94ac333d2b877f28 | jq\n",
    "  % Total    % Received % Xferd  Average Speed   Time    Time     Time  Current\n",
    "                                 Dload  Upload   Total   Spent    Left  Speed\n",
    "100  1699  100  1699    0     0   129k      0 --:--:-- --:--:-- --:--:--  237k\n",
    "{\n",
    "  \"txid\": \"6f536844530e97a11bfe8db1db88bd766b6004a9f99805ec94ac333d2b877f28\",\n",
    "  \"version\": 1,\n",
    "  \"locktime\": 0,\n",
    "  \"vin\": [\n",
    "    {\n",
    "      \"txid\": \"77aed9d22ac34c4ec4554f48ef16d4b6f20a3f04806eee70972d7eb8e5802fc5\",\n",
    "      \"vout\": 0,\n",
    "      \"prevout\": {\n",
    "        \"scriptpubkey\": \"76a914cfc377f37ec1c62f778b4518abda888c4303b71a88ac\",\n",
    "        \"scriptpubkey_asm\": \"OP_DUP OP_HASH160 OP_PUSHBYTES_20 cfc377f37ec1c62f778b4518abda888c4303b71a OP_EQUALVERIFY OP_CHECKSIG\",\n",
    "        \"scriptpubkey_type\": \"p2pkh\",\n",
    "        \"scriptpubkey_address\": \"mzTWLA2kJwZECywvGmkj8k2tVmVDpXLNq6\",\n",
    "        \"value\": 2000000\n",
    "      },\n",
    "      \"scriptsig\": \"483045022100ca8bc63b33b03c0c4083b7fd54da78a83cd47adb77b6dce35a0ab8821dc762cf02204d092271888c0df8880d58c7f9ed4b76500c1b2b0ac7a5f2eb9344684c143fad01210236248429d51fdbe88896767819e5d573ab3f76dd7228da765e43da9937b8fa8d\",\n",
    "      \"scriptsig_asm\": \"OP_PUSHBYTES_72 3045022100ca8bc63b33b03c0c4083b7fd54da78a83cd47adb77b6dce35a0ab8821dc762cf02204d092271888c0df8880d58c7f9ed4b76500c1b2b0ac7a5f2eb9344684c143fad01 OP_PUSHBYTES_33 0236248429d51fdbe88896767819e5d573ab3f76dd7228da765e43da9937b8fa8d\",\n",
    "      \"is_coinbase\": false,\n",
    "      \"sequence\": 4294967295\n",
    "    }\n",
    "  ],\n",
    "  \"vout\": [\n",
    "    {\n",
    "      \"scriptpubkey\": \"76a914cfc377f37ec1c62f778b4518abda888c4303b71a88ac\",\n",
    "      \"scriptpubkey_asm\": \"OP_DUP OP_HASH160 OP_PUSHBYTES_20 cfc377f37ec1c62f778b4518abda888c4303b71a OP_EQUALVERIFY OP_CHECKSIG\",\n",
    "      \"scriptpubkey_type\": \"p2pkh\",\n",
    "      \"scriptpubkey_address\": \"mzTWLA2kJwZECywvGmkj8k2tVmVDpXLNq6\",\n",
    "      \"value\": 998000\n",
    "    },\n",
    "    {\n",
    "      \"scriptpubkey\": \"76a91425659a4b6caaf192c0ad254a929208f7b606963088ac\",\n",
    "      \"scriptpubkey_asm\": \"OP_DUP OP_HASH160 OP_PUSHBYTES_20 25659a4b6caaf192c0ad254a929208f7b6069630 OP_EQUALVERIFY OP_CHECKSIG\",\n",
    "      \"scriptpubkey_type\": \"p2pkh\",\n",
    "      \"scriptpubkey_address\": \"mivh1dcR1Puy9NLCVzRnsoyBEqRrkmP3a4\",\n",
    "      \"value\": 1000000\n",
    "    }\n",
    "  ],\n",
    "  \"size\": 226,\n",
    "  \"weight\": 904,\n",
    "  \"fee\": 2000,\n",
    "  \"status\": {\n",
    "    \"confirmed\": false\n",
    "  }\n",
    "}\n",
    "```\n",
    "\n",
    "Note: this example only works with compressed addresses"
   ]
  },
  {
   "cell_type": "code",
   "execution_count": 8,
   "id": "69a68cc4-3d87-4606-a1f4-aaffe58b0da3",
   "metadata": {},
   "outputs": [
    {
     "name": "stdout",
     "output_type": "stream",
     "text": [
      "tx: 4cd3e5363e74ed9e934a2ae5f1c1a8f19e73f3b67539efbe104dca3d10595b05\n",
      "version: 1\n",
      "tx_ins:\n",
      "448ea0ff9dee6f967bebca84463d017d246ce081b221313c58ccf06c76b18ac3:1\n",
      "tx_outs:\n",
      "1998000:OP_DUP OP_HASH160 25659a4b6caaf192c0ad254a929208f7b6069630 OP_EQUALVERIFY OP_CHECKSIG\n",
      "locktime: 0\n",
      "0100000001c38ab1766cf0cc583c3121b281e06c247d013d4684caeb7b966fee9dffa08e440100000000ffffffff01b07c1e00000000001976a91425659a4b6caaf192c0ad254a929208f7b606963088ac00000000\n"
     ]
    }
   ],
   "source": [
    "## This is an example that does not have a change address - sends everything to a target address minus a small fee\n",
    "\n",
    "\n",
    "from helper import decode_base58, SIGHASH_ALL\n",
    "from script import p2pkh_script, Script\n",
    "from tx import TxIn, TxOut, Tx\n",
    "\n",
    "# Source address has 2,000,000 satoshis - send half, guess 2000 for the txn fee, rest is change back 998,000\n",
    "\n",
    "prev_tx = bytes.fromhex('448ea0ff9dee6f967bebca84463d017d246ce081b221313c58ccf06c76b18ac3')\n",
    "prev_index = 1\n",
    "tx_in = TxIn(prev_tx, prev_index)\n",
    "tx_outs = []\n",
    "\n",
    "target_amount = int(2000000-2000)  \n",
    "target_h160 = decode_base58('mivh1dcR1Puy9NLCVzRnsoyBEqRrkmP3a4')\n",
    "target_script = p2pkh_script(target_h160)\n",
    "target_output = TxOut(amount=target_amount, script_pubkey=target_script)\n",
    "\n",
    "tx_obj = Tx(1, [tx_in], [target_output], 0, True)  \n",
    "print(tx_obj)\n",
    "print(tx_obj.serialize().hex())"
   ]
  },
  {
   "cell_type": "code",
   "execution_count": 4,
   "id": "adcc7076-49ce-48d1-9b80-7bd3d2163ac8",
   "metadata": {},
   "outputs": [
    {
     "name": "stdout",
     "output_type": "stream",
     "text": [
      "3044022018333f4ec707973dd7c905f0dbfc6ac5401cad98dd0279595559bac9d9571b120220303df21061a311dd4e50bd4aa2c1452a4e1544c700fa1d13d03ca8bebffe431301 0236248429d51fdbe88896767819e5d573ab3f76dd7228da765e43da9937b8fa8d OP_DUP OP_HASH160 cfc377f37ec1c62f778b4518abda888c4303b71a OP_EQUALVERIFY OP_CHECKSIG\n",
      "True\n",
      "tx: e5dde6e9b914b1c7d933cf19d4d85385a9298f91ae10e2af5c881eb85b75064d\n",
      "version: 1\n",
      "tx_ins:\n",
      "448ea0ff9dee6f967bebca84463d017d246ce081b221313c58ccf06c76b18ac3:1\n",
      "tx_outs:\n",
      "1998000:OP_DUP OP_HASH160 25659a4b6caaf192c0ad254a929208f7b6069630 OP_EQUALVERIFY OP_CHECKSIG\n",
      "locktime: 0\n",
      "0100000001c38ab1766cf0cc583c3121b281e06c247d013d4684caeb7b966fee9dffa08e44010000006a473044022018333f4ec707973dd7c905f0dbfc6ac5401cad98dd0279595559bac9d9571b120220303df21061a311dd4e50bd4aa2c1452a4e1544c700fa1d13d03ca8bebffe431301210236248429d51fdbe88896767819e5d573ab3f76dd7228da765e43da9937b8fa8dffffffff01b07c1e00000000001976a91425659a4b6caaf192c0ad254a929208f7b606963088ac00000000\n"
     ]
    }
   ],
   "source": [
    "print(tx_obj.sign_input(0, private_key)) \n",
    "print(tx_obj)\n",
    "print(tx_obj.serialize().hex())"
   ]
  },
  {
   "cell_type": "code",
   "execution_count": null,
   "id": "f74bbe6b-7799-49df-96ba-56c7001e5bbb",
   "metadata": {},
   "outputs": [],
   "source": []
  }
 ],
 "metadata": {
  "kernelspec": {
   "display_name": "Python 3 (ipykernel)",
   "language": "python",
   "name": "python3"
  },
  "language_info": {
   "codemirror_mode": {
    "name": "ipython",
    "version": 3
   },
   "file_extension": ".py",
   "mimetype": "text/x-python",
   "name": "python",
   "nbconvert_exporter": "python",
   "pygments_lexer": "ipython3",
   "version": "3.9.6"
  }
 },
 "nbformat": 4,
 "nbformat_minor": 5
}
