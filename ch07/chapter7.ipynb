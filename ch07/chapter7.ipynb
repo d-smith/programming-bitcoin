{
 "cells": [
  {
   "cell_type": "markdown",
   "id": "9a78bf14-3e76-4d0a-bc81-f4bd286ddb05",
   "metadata": {},
   "source": [
    "Transaction validation\n",
    "\n",
    "* Inputs are previously unspent\n",
    "* Sum of inputs is greater than or equal to the outputs\n",
    "* The SigScript unlocks the previous ScriptPubKey\n"
   ]
  },
  {
   "cell_type": "code",
   "execution_count": null,
   "id": "93934640-399a-4354-a928-4bad2ca7933d",
   "metadata": {},
   "outputs": [],
   "source": [
    "# Example - is this transaction attempting to make money out of thin air?\n",
    "\n",
    "from tx import Tx\n",
    "from io import BytesIO\n",
    "raw_tx = ('0100000001813f79011acb80925dfe69b3def355fe914bd1d96a3f5f71bf830\\\n",
    "3c6a989c7d1000000006b483045022100ed81ff192e75a3fd2304004dcadb746fa5e24c5031ccf\\\n",
    "cf21320b0277457c98f02207a986d955c6e0cb35d446a89d3f56100f4d7f67801c31967743a9c8\\\n",
    "e10615bed01210349fc4e631e3624a545de3f89f5d8684c7b8138bd94bdd531d2e213bf016b278\\\n",
    "afeffffff02a135ef01000000001976a914bc3b654dca7e56b04dca18f2566cdaf02e8d9ada88a\\\n",
    "c99c39800000000001976a9141c4bc762dd5423e332166702cb75f40df79fea1288ac19430600')\n",
    "stream = BytesIO(bytes.fromhex(raw_tx))\n",
    "transaction = Tx.parse(stream)\n",
    "print(transaction.fee() >= 0)  # <1>"
   ]
  },
  {
   "cell_type": "markdown",
   "id": "31e558cb-40f7-45b0-8e37-ce70a8df2bd5",
   "metadata": {},
   "source": [
    "ECDSA requires the public key P, the signature hash z, and the signature (r,s)"
   ]
  },
  {
   "cell_type": "code",
   "execution_count": 2,
   "id": "fe64b097-2628-4b92-b0c0-bbec88ecbe8e",
   "metadata": {},
   "outputs": [
    {
     "name": "stdout",
     "output_type": "stream",
     "text": [
      "True\n"
     ]
    }
   ],
   "source": [
    "from ecc import S256Point, Signature\n",
    "# SEC - standards for efficent cryptography - public key serialization\n",
    "sec = bytes.fromhex('0349fc4e631e3624a545de3f89f5d8684c7b8138bd94bdd531d2e\\\n",
    "213bf016b278a')\n",
    "# DER - distinguised encoding rules - for signatures\n",
    "der = bytes.fromhex('3045022100ed81ff192e75a3fd2304004dcadb746fa5e24c5031c\\\n",
    "cfcf21320b0277457c98f02207a986d955c6e0cb35d446a89d3f56100f4d7f67801c31967743a9\\\n",
    "c8e10615bed')\n",
    "z = 0x27e0c5994dec7824e56dec6b2fcb342eb7cdb0d0957c2fce9882f715e85d81a6\n",
    "point = S256Point.parse(sec)\n",
    "signature = Signature.parse(der)\n",
    "print(point.verify(z, signature))"
   ]
  },
  {
   "cell_type": "markdown",
   "id": "5d6443b4-796e-4e6a-86b1-fa56ee41d4e2",
   "metadata": {},
   "source": [
    "Getting the signature hash\n",
    "\n",
    "* Can't hash the transaction, since the signature itself is embedded in the SigScript\n",
    "* Transaction is modified before signing - a signature hash for each input is computed\n",
    "\n",
    "The process:\n",
    "\n",
    "1. Empty all ScriptSigs before checking (or for creating, probably has empty ScriptSigs when creating).\n",
    "2. Replace the SigScript of the transaction with ScriptPubKey of the previous transaction output\n",
    "3. Append the hash type encoded little-endian over 4 bytes\n",
    "\n",
    "The hash256 of the modified transaction can be taken, and the big-endian integer is taken as z"
   ]
  },
  {
   "cell_type": "code",
   "execution_count": 3,
   "id": "1fa98fed-6dcb-41f1-ba3d-c2116d7f2cdc",
   "metadata": {},
   "outputs": [
    {
     "name": "stdout",
     "output_type": "stream",
     "text": [
      "0x27e0c5994dec7824e56dec6b2fcb342eb7cdb0d0957c2fce9882f715e85d81a6\n"
     ]
    }
   ],
   "source": [
    "from helper import hash256\n",
    "modified_tx = bytes.fromhex('0100000001813f79011acb80925dfe69b3def355fe914\\\n",
    "bd1d96a3f5f71bf8303c6a989c7d1000000001976a914a802fc56c704ce87c42d7c92eb75e7896\\\n",
    "bdc41ae88acfeffffff02a135ef01000000001976a914bc3b654dca7e56b04dca18f2566cdaf02\\\n",
    "e8d9ada88ac99c39800000000001976a9141c4bc762dd5423e332166702cb75f40df79fea1288a\\\n",
    "c1943060001000000')\n",
    "h256 = hash256(modified_tx)\n",
    "z = int.from_bytes(h256, 'big')\n",
    "print(hex(z))\n"
   ]
  },
  {
   "cell_type": "code",
   "execution_count": 4,
   "id": "1cd64425-886b-404c-8490-2b703e75e4a0",
   "metadata": {},
   "outputs": [
    {
     "data": {
      "text/plain": [
       "True"
      ]
     },
     "execution_count": 4,
     "metadata": {},
     "output_type": "execute_result"
    }
   ],
   "source": [
    "# Putting it all together\n",
    "\n",
    "from ecc import S256Point, Signature\n",
    "sec = bytes.fromhex('0349fc4e631e3624a545de3f89f5d8684c7b8138bd94bdd531d2e\\\n",
    "213bf016b278a')\n",
    "der = bytes.fromhex('3045022100ed81ff192e75a3fd2304004dcadb746fa5e24c5031c\\\n",
    "cfcf21320b0277457c98f02207a986d955c6e0cb35d446a89d3f56100f4d7f67801c31967743a9\\\n",
    "c8e10615bed')\n",
    "z = 0x27e0c5994dec7824e56dec6b2fcb342eb7cdb0d0957c2fce9882f715e85d81a6\n",
    "point = S256Point.parse(sec)\n",
    "signature = Signature.parse(der)\n",
    "point.verify(z, signature)"
   ]
  },
  {
   "cell_type": "code",
   "execution_count": null,
   "id": "db4db6d1-c83e-4e66-a916-c73dc8214d26",
   "metadata": {},
   "outputs": [],
   "source": []
  }
 ],
 "metadata": {
  "kernelspec": {
   "display_name": "Python 3 (ipykernel)",
   "language": "python",
   "name": "python3"
  },
  "language_info": {
   "codemirror_mode": {
    "name": "ipython",
    "version": 3
   },
   "file_extension": ".py",
   "mimetype": "text/x-python",
   "name": "python",
   "nbconvert_exporter": "python",
   "pygments_lexer": "ipython3",
   "version": "3.9.6"
  }
 },
 "nbformat": 4,
 "nbformat_minor": 5
}
