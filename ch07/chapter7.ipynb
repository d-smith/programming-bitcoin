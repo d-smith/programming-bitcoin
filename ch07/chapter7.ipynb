{
 "cells": [
  {
   "cell_type": "markdown",
   "id": "9a78bf14-3e76-4d0a-bc81-f4bd286ddb05",
   "metadata": {},
   "source": [
    "Transaction validation\n",
    "\n",
    "* Inputs are previously unspent\n",
    "* Sum of inputs is greater than or equal to the outputs\n",
    "* The SigScript unlocks the previous ScriptPubKey\n"
   ]
  },
  {
   "cell_type": "code",
   "execution_count": 3,
   "id": "93934640-399a-4354-a928-4bad2ca7933d",
   "metadata": {},
   "outputs": [
    {
     "name": "stderr",
     "output_type": "stream",
     "text": [
      "/Users/ds/Library/Python/3.9/lib/python/site-packages/urllib3/__init__.py:34: NotOpenSSLWarning: urllib3 v2.0 only supports OpenSSL 1.1.1+, currently the 'ssl' module is compiled with 'LibreSSL 2.8.3'. See: https://github.com/urllib3/urllib3/issues/3020\n",
      "  warnings.warn(\n"
     ]
    },
    {
     "name": "stdout",
     "output_type": "stream",
     "text": [
      "True\n"
     ]
    }
   ],
   "source": [
    "# Example - is this transaction attempting to make money out of thin air?\n",
    "\n",
    "from tx import Tx\n",
    "from io import BytesIO\n",
    "raw_tx = ('0100000001813f79011acb80925dfe69b3def355fe914bd1d96a3f5f71bf830\\\n",
    "3c6a989c7d1000000006b483045022100ed81ff192e75a3fd2304004dcadb746fa5e24c5031ccf\\\n",
    "cf21320b0277457c98f02207a986d955c6e0cb35d446a89d3f56100f4d7f67801c31967743a9c8\\\n",
    "e10615bed01210349fc4e631e3624a545de3f89f5d8684c7b8138bd94bdd531d2e213bf016b278\\\n",
    "afeffffff02a135ef01000000001976a914bc3b654dca7e56b04dca18f2566cdaf02e8d9ada88a\\\n",
    "c99c39800000000001976a9141c4bc762dd5423e332166702cb75f40df79fea1288ac19430600')\n",
    "stream = BytesIO(bytes.fromhex(raw_tx))\n",
    "transaction = Tx.parse(stream)\n",
    "print(transaction.fee() >= 0)  # <1>"
   ]
  },
  {
   "cell_type": "markdown",
   "id": "31e558cb-40f7-45b0-8e37-ce70a8df2bd5",
   "metadata": {},
   "source": [
    "ECDSA requires the public key P, the signature hash z, and the signature (r,s)"
   ]
  },
  {
   "cell_type": "code",
   "execution_count": 4,
   "id": "fe64b097-2628-4b92-b0c0-bbec88ecbe8e",
   "metadata": {},
   "outputs": [
    {
     "name": "stdout",
     "output_type": "stream",
     "text": [
      "True\n"
     ]
    }
   ],
   "source": [
    "from ecc import S256Point, Signature\n",
    "# SEC - standards for efficent cryptography - public key serialization\n",
    "sec = bytes.fromhex('0349fc4e631e3624a545de3f89f5d8684c7b8138bd94bdd531d2e\\\n",
    "213bf016b278a')\n",
    "# DER - distinguised encoding rules - for signatures\n",
    "der = bytes.fromhex('3045022100ed81ff192e75a3fd2304004dcadb746fa5e24c5031c\\\n",
    "cfcf21320b0277457c98f02207a986d955c6e0cb35d446a89d3f56100f4d7f67801c31967743a9\\\n",
    "c8e10615bed')\n",
    "z = 0x27e0c5994dec7824e56dec6b2fcb342eb7cdb0d0957c2fce9882f715e85d81a6\n",
    "point = S256Point.parse(sec)\n",
    "signature = Signature.parse(der)\n",
    "print(point.verify(z, signature))"
   ]
  },
  {
   "cell_type": "markdown",
   "id": "5d6443b4-796e-4e6a-86b1-fa56ee41d4e2",
   "metadata": {},
   "source": [
    "Getting the signature hash\n",
    "\n",
    "* Can't hash the transaction, since the signature itself is embedded in the SigScript\n",
    "* Transaction is modified before signing - a signature hash for each input is computed\n",
    "\n",
    "The process:\n",
    "\n",
    "1. Empty all ScriptSigs before checking (or for creating, probably has empty ScriptSigs when creating).\n",
    "2. Replace the SigScript of the transaction with ScriptPubKey of the previous transaction output\n",
    "3. Append the hash type encoded little-endian over 4 bytes\n",
    "\n",
    "The hash256 of the modified transaction can be taken, and the big-endian integer is taken as z"
   ]
  },
  {
   "cell_type": "code",
   "execution_count": 5,
   "id": "1fa98fed-6dcb-41f1-ba3d-c2116d7f2cdc",
   "metadata": {},
   "outputs": [
    {
     "name": "stdout",
     "output_type": "stream",
     "text": [
      "0x27e0c5994dec7824e56dec6b2fcb342eb7cdb0d0957c2fce9882f715e85d81a6\n"
     ]
    }
   ],
   "source": [
    "from helper import hash256\n",
    "modified_tx = bytes.fromhex('0100000001813f79011acb80925dfe69b3def355fe914\\\n",
    "bd1d96a3f5f71bf8303c6a989c7d1000000001976a914a802fc56c704ce87c42d7c92eb75e7896\\\n",
    "bdc41ae88acfeffffff02a135ef01000000001976a914bc3b654dca7e56b04dca18f2566cdaf02\\\n",
    "e8d9ada88ac99c39800000000001976a9141c4bc762dd5423e332166702cb75f40df79fea1288a\\\n",
    "c1943060001000000')\n",
    "h256 = hash256(modified_tx)\n",
    "z = int.from_bytes(h256, 'big')\n",
    "print(hex(z))\n"
   ]
  },
  {
   "cell_type": "code",
   "execution_count": 6,
   "id": "1cd64425-886b-404c-8490-2b703e75e4a0",
   "metadata": {},
   "outputs": [
    {
     "data": {
      "text/plain": [
       "True"
      ]
     },
     "execution_count": 6,
     "metadata": {},
     "output_type": "execute_result"
    }
   ],
   "source": [
    "# Putting it all together\n",
    "\n",
    "from ecc import S256Point, Signature\n",
    "sec = bytes.fromhex('0349fc4e631e3624a545de3f89f5d8684c7b8138bd94bdd531d2e\\\n",
    "213bf016b278a')\n",
    "der = bytes.fromhex('3045022100ed81ff192e75a3fd2304004dcadb746fa5e24c5031c\\\n",
    "cfcf21320b0277457c98f02207a986d955c6e0cb35d446a89d3f56100f4d7f67801c31967743a9\\\n",
    "c8e10615bed')\n",
    "z = 0x27e0c5994dec7824e56dec6b2fcb342eb7cdb0d0957c2fce9882f715e85d81a6\n",
    "point = S256Point.parse(sec)\n",
    "signature = Signature.parse(der)\n",
    "point.verify(z, signature)"
   ]
  },
  {
   "cell_type": "code",
   "execution_count": 7,
   "id": "db4db6d1-c83e-4e66-a916-c73dc8214d26",
   "metadata": {},
   "outputs": [
    {
     "data": {
      "text/plain": [
       "'n3zzACo1BgNCDK928v6KpnWvnQ3KC9Aox4'"
      ]
     },
     "execution_count": 7,
     "metadata": {},
     "output_type": "execute_result"
    }
   ],
   "source": [
    "from ecc import PrivateKey\n",
    "from helper import hash256, little_endian_to_int\n",
    "secret = little_endian_to_int(hash256(b\"Nouvelle Methode complete de cornet a pistons et d'instruments a pistons par Alexandre Petit\"))\n",
    "private_key = PrivateKey(secret)\n",
    "private_key.point.address(compressed=False, testnet=True)"
   ]
  },
  {
   "cell_type": "code",
   "execution_count": 15,
   "id": "ca9af498-a13c-4e00-9f82-006c4ec93dee",
   "metadata": {},
   "outputs": [
    {
     "data": {
      "text/plain": [
       "'mhxabKdkyQvxm8yCciAk7hQiWyKs2PUWh2'"
      ]
     },
     "execution_count": 15,
     "metadata": {},
     "output_type": "execute_result"
    }
   ],
   "source": [
    "from ecc import PrivateKey\n",
    "from helper import hash256, little_endian_to_int\n",
    "secret2 = little_endian_to_int(hash256(b\"Destination\"))\n",
    "private_key2 = PrivateKey(secret2)\n",
    "private_key2.point.address(compressed=False, testnet=True)"
   ]
  },
  {
   "cell_type": "code",
   "execution_count": 9,
   "id": "529bf762-3ccb-436d-9008-f6f5c8a762a9",
   "metadata": {},
   "outputs": [
    {
     "name": "stdout",
     "output_type": "stream",
     "text": [
      "{\"txId\":\"233bd792c876693e6719716df22bef9e88f99634f4a3ef2ea91689057e9bfd4e\"}\n"
     ]
    }
   ],
   "source": [
    "# Fund the address\n",
    "!curl -X POST --data '{\"address\": \"n3zzACo1BgNCDK928v6KpnWvnQ3KC9Aox4\", \"amount\": 0.02}' http://localhost:3000/faucet"
   ]
  },
  {
   "cell_type": "markdown",
   "id": "c9eb90fa-2a5c-42f3-9a3e-7c6421c1658e",
   "metadata": {},
   "source": [
    "On the command line\n",
    "\n",
    "```\n",
    "alias bcli='docker exec -it bitcoin bitcoin-cli'        \n",
    "ds@dss-MacBook-Pro ~ % bcli -regtest getnewaddress                     \n",
    "bcrt1q6zdhs72upcwpuu5c85e2k7ncum7sjjn5fhrjty\n",
    "```\n",
    "\n",
    "Current UTX0 set\n",
    "\n",
    "```\n",
    "bcli gettransaction 233bd792c876693e6719716df22bef9e88f99634f4a3ef2ea91689057e9bfd4e\n",
    "{\n",
    "  \"amount\": -0.02000000,\n",
    "  \"fee\": -0.00000147,\n",
    "  \"confirmations\": 1,\n",
    "  \"blockhash\": \"3ea2bcd72d603715e94b2c2ff84663d7652669ea46ad555aecf22737b4acce52\",\n",
    "  \"blockheight\": 102,\n",
    "  \"blockindex\": 1,\n",
    "  \"blocktime\": 1694098554,\n",
    "  \"txid\": \"233bd792c876693e6719716df22bef9e88f99634f4a3ef2ea91689057e9bfd4e\",\n",
    "  \"wtxid\": \"1dcbe07b4024a1fcd0fe5a9e3df9d27f9e0bab5604baf582d2d8cfdf2d98d1a4\",\n",
    "  \"walletconflicts\": [\n",
    "  ],\n",
    "  \"time\": 1694098554,\n",
    "  \"timereceived\": 1694098554,\n",
    "  \"bip125-replaceable\": \"no\",\n",
    "  \"details\": [\n",
    "    {\n",
    "      \"address\": \"n3zzACo1BgNCDK928v6KpnWvnQ3KC9Aox4\",\n",
    "      \"category\": \"send\",\n",
    "      \"amount\": -0.02000000,\n",
    "      \"vout\": 1,\n",
    "      \"fee\": -0.00000147,\n",
    "      \"abandoned\": false\n",
    "    }\n",
    "  ],\n",
    "  \"hex\": \"0200000000010195688d7e1337f698dd452434257c543a748219669111544b4503fe1d4605a9ec0000000000fdffffff02ed6ce729010000001976a9140fa738fd6297380aacb498c74ac038e9db83009588ac80841e00000000001976a914f69ff8808047eeddf564911ae7e0384b2cacf76288ac02473044022001083413c63c76b93ff468f2ba693a042be14162902de83fcabbe79b32f33a340220632991f6226ebba1746c771f4ec82c835b7ae5735af6568374df0170f23c54c6012103efb2c883e93e2977c1341b8637d757ce47b970e02aa13acd65ca26f844de8d6400000000\"\n",
    "}\n",
    "```\n",
    "\n",
    "\n",
    "Can we send from the address controlled by our private key to the second address, receiving change back to our original address (not a recommended practive, but for simplicity)?"
   ]
  },
  {
   "cell_type": "code",
   "execution_count": 20,
   "id": "d95984f2-35f7-4563-9d66-f3f4ef8d9a33",
   "metadata": {},
   "outputs": [
    {
     "name": "stdout",
     "output_type": "stream",
     "text": [
      "tx: 44cb6244fc26ffffe067ec315e380a084e68198aa5a0a68dc474f7109be997b6\n",
      "version: 1\n",
      "tx_ins:\n",
      "233bd792c876693e6719716df22bef9e88f99634f4a3ef2ea91689057e9bfd4e:1\n",
      "tx_outs:\n",
      "998000:OP_DUP OP_HASH160 f69ff8808047eeddf564911ae7e0384b2cacf762 OP_EQUALVERIFY OP_CHECKSIG\n",
      "1000000:OP_DUP OP_HASH160 1ac8f34f371bd9c05100f4004a821fb77469faf4 OP_EQUALVERIFY OP_CHECKSIG\n",
      "locktime: 0\n",
      "01000000014efd9b7e058916a92eefa3f43496f9889eef2bf26d7119673e6976c892d73b230100000000ffffffff02703a0f00000000001976a914f69ff8808047eeddf564911ae7e0384b2cacf76288ac40420f00000000001976a9141ac8f34f371bd9c05100f4004a821fb77469faf488ac00000000\n"
     ]
    }
   ],
   "source": [
    "from helper import decode_base58, SIGHASH_ALL\n",
    "from script import p2pkh_script, Script\n",
    "from tx import TxIn, TxOut, Tx\n",
    "\n",
    "# Source address has 2,000,000 satoshis - send half, guess 2000 for the txn fee, rest is change back 998,000\n",
    "\n",
    "prev_tx = bytes.fromhex('233bd792c876693e6719716df22bef9e88f99634f4a3ef2ea91689057e9bfd4e')\n",
    "prev_index = 1\n",
    "tx_in = TxIn(prev_tx, prev_index)\n",
    "tx_outs = []\n",
    "change_amount = int(998000)  \n",
    "change_h160 = decode_base58('n3zzACo1BgNCDK928v6KpnWvnQ3KC9Aox4')\n",
    "change_script = p2pkh_script(change_h160)\n",
    "change_output = TxOut(amount=change_amount, script_pubkey=change_script)\n",
    "target_amount = int(1000000)  \n",
    "target_h160 = decode_base58('mhxabKdkyQvxm8yCciAk7hQiWyKs2PUWh2')\n",
    "target_script = p2pkh_script(target_h160)\n",
    "target_output = TxOut(amount=target_amount, script_pubkey=target_script)\n",
    "tx_obj = Tx(1, [tx_in], [change_output, target_output], 0, True)  \n",
    "print(tx_obj)\n",
    "print(tx_obj.serialize().hex())\n",
    "\n"
   ]
  },
  {
   "cell_type": "markdown",
   "id": "a04fcda2-3058-40ca-91bc-86babbfb957d",
   "metadata": {},
   "source": [
    "What does this look like if we decode it using the command line?\n",
    "\n",
    "```\n",
    "export RAW_TX=01000000014efd9b7e058916a92eefa3f43496f9889eef2bf26d7119673e6976c892d73b230100000000ffffffff02703a0f00000000001976a914f69ff8808047eeddf564911ae7e0384b2cacf76288ac40420f00000000001976a9141ac8f34f371bd9c05100f4004a821fb77469faf488ac00000000\n",
    "\n",
    "bcli decoderawtransaction $RAW_TX\n",
    "\n",
    "{\n",
    "  \"txid\": \"44cb6244fc26ffffe067ec315e380a084e68198aa5a0a68dc474f7109be997b6\",\n",
    "  \"hash\": \"44cb6244fc26ffffe067ec315e380a084e68198aa5a0a68dc474f7109be997b6\",\n",
    "  \"version\": 1,\n",
    "  \"size\": 119,\n",
    "  \"vsize\": 119,\n",
    "  \"weight\": 476,\n",
    "  \"locktime\": 0,\n",
    "  \"vin\": [\n",
    "    {\n",
    "      \"txid\": \"233bd792c876693e6719716df22bef9e88f99634f4a3ef2ea91689057e9bfd4e\",\n",
    "      \"vout\": 1,\n",
    "      \"scriptSig\": {\n",
    "        \"asm\": \"\",\n",
    "        \"hex\": \"\"\n",
    "      },\n",
    "      \"sequence\": 4294967295\n",
    "    }\n",
    "  ],\n",
    "  \"vout\": [\n",
    "    {\n",
    "      \"value\": 0.00998000,\n",
    "      \"n\": 0,\n",
    "      \"scriptPubKey\": {\n",
    "        \"asm\": \"OP_DUP OP_HASH160 f69ff8808047eeddf564911ae7e0384b2cacf762 OP_EQUALVERIFY OP_CHECKSIG\",\n",
    "        \"desc\": \"addr(n3zzACo1BgNCDK928v6KpnWvnQ3KC9Aox4)#4redl4xr\",\n",
    "        \"hex\": \"76a914f69ff8808047eeddf564911ae7e0384b2cacf76288ac\",\n",
    "        \"address\": \"n3zzACo1BgNCDK928v6KpnWvnQ3KC9Aox4\",\n",
    "        \"type\": \"pubkeyhash\"\n",
    "      }\n",
    "    },\n",
    "    {\n",
    "      \"value\": 0.01000000,\n",
    "      \"n\": 1,\n",
    "      \"scriptPubKey\": {\n",
    "        \"asm\": \"OP_DUP OP_HASH160 1ac8f34f371bd9c05100f4004a821fb77469faf4 OP_EQUALVERIFY OP_CHECKSIG\",\n",
    "        \"desc\": \"addr(mhxabKdkyQvxm8yCciAk7hQiWyKs2PUWh2)#vc6aacjc\",\n",
    "        \"hex\": \"76a9141ac8f34f371bd9c05100f4004a821fb77469faf488ac\",\n",
    "        \"address\": \"mhxabKdkyQvxm8yCciAk7hQiWyKs2PUWh2\",\n",
    "        \"type\": \"pubkeyhash\"\n",
    "      }\n",
    "    }\n",
    "  ]\n",
    "}\n",
    "\n",
    "```"
   ]
  },
  {
   "cell_type": "code",
   "execution_count": 21,
   "id": "97809c63-58bc-441d-8be1-aab444151a75",
   "metadata": {},
   "outputs": [
    {
     "name": "stdout",
     "output_type": "stream",
     "text": [
      "01000000014efd9b7e058916a92eefa3f43496f9889eef2bf26d7119673e6976c892d73b23010000006b483045022100e56124079fc642d15d7a47c1728a9c1f6a3effd0e95e64ee7b31c08cb3cae3be022010e392d15bc2a3acbf0379fe1e89c90b54e45357b229cb46b9177abf6e745b9f012102e00d1040a9afb99d351a5cf9294d029d828311d9558b0203015a4f07a6787c9effffffff02703a0f00000000001976a914f69ff8808047eeddf564911ae7e0384b2cacf76288ac40420f00000000001976a9141ac8f34f371bd9c05100f4004a821fb77469faf488ac00000000\n"
     ]
    }
   ],
   "source": [
    "from ecc import PrivateKey\n",
    "from helper import SIGHASH_ALL\n",
    "z = tx_obj.sig_hash(0)  \n",
    "\n",
    "der = private_key.sign(z).der()\n",
    "sig = der + SIGHASH_ALL.to_bytes(1, 'big')  \n",
    "sec = private_key.point.sec()\n",
    "script_sig = Script([sig, sec])  \n",
    "tx_obj.tx_ins[0].script_sig = script_sig   \n",
    "print(tx_obj.serialize().hex())\n",
    "\n"
   ]
  },
  {
   "cell_type": "code",
   "execution_count": 19,
   "id": "d109a6af-4280-41f0-a186-2ad02440c2e6",
   "metadata": {},
   "outputs": [
    {
     "data": {
      "text/plain": [
       "True"
      ]
     },
     "execution_count": 19,
     "metadata": {},
     "output_type": "execute_result"
    }
   ],
   "source": [
    "'0100000001813f79011acb80925dfe69b3def355fe914bd1d96a3f5f71bf8303c6a989c7d1000000006a473044022043c180d763726ef41b1088619e70efa073ae65fc8f211f7eb1175e2db9654d97022075d18168ff944dd15914580e0656bba2ccbf6c321e2ffb853cbd5801b8c8277c012102e00d1040a9afb99d351a5cf9294d029d828311d9558b0203015a4f07a6787c9efeffffff02a135ef01000000001976a914bc3b654dca7e56b04dca18f2566cdaf02e8d9ada88ac99c39800000000001976a9141c4bc762dd5423e332166702cb75f40df79fea1288ac19430600' == '0100000001813f79011acb80925dfe69b3def355fe914bd1d96a3f5f71bf8303c6a989c7d1000000006a473044022043c180d763726ef41b1088619e70efa073ae65fc8f211f7eb1175e2db9654d97022075d18168ff944dd15914580e0656bba2ccbf6c321e2ffb853cbd5801b8c8277c012102e00d1040a9afb99d351a5cf9294d029d828311d9558b0203015a4f07a6787c9efeffffff02a135ef01000000001976a914bc3b654dca7e56b04dca18f2566cdaf02e8d9ada88ac99c39800000000001976a9141c4bc762dd5423e332166702cb75f40df79fea1288ac19430600'"
   ]
  },
  {
   "cell_type": "markdown",
   "id": "f182b05b-3901-432d-a433-826dbc6d6ead",
   "metadata": {},
   "source": [
    "Send the transaction\n",
    "\n",
    "```\n",
    "export SIGNED=01000000014efd9b7e058916a92eefa3f43496f9889eef2bf26d7119673e6976c892d73b23010000006b483045022100e56124079fc642d15d7a47c1728a9c1f6a3effd0e95e64ee7b31c08cb3cae3be022010e392d15bc2a3acbf0379fe1e89c90b54e45357b229cb46b9177abf6e745b9f012102e00d1040a9afb99d351a5cf9294d029d828311d9558b0203015a4f07a6787c9effffffff02703a0f00000000001976a914f69ff8808047eeddf564911ae7e0384b2cacf76288ac40420f00000000001976a9141ac8f34f371bd9c05100f4004a821fb77469faf488ac00000000\n",
    "\n",
    "\n",
    "bcli -regtest sendrawtransaction $SIGNED\n",
    "error code: -26\n",
    "error message:\n",
    "mandatory-script-verify-flag-failed (Script failed an OP_EQUALVERIFY operation)\n",
    "\n",
    "```\n",
    "\n",
    "Hmmm.... to troubleshoot decode the hex of the prev transaction\n",
    "\n",
    "```\n",
    "{\n",
    "  \"txid\": \"233bd792c876693e6719716df22bef9e88f99634f4a3ef2ea91689057e9bfd4e\",\n",
    "  \"hash\": \"1dcbe07b4024a1fcd0fe5a9e3df9d27f9e0bab5604baf582d2d8cfdf2d98d1a4\",\n",
    "  \"version\": 2,\n",
    "  \"size\": 228,\n",
    "  \"vsize\": 147,\n",
    "  \"weight\": 585,\n",
    "  \"locktime\": 0,\n",
    "  \"vin\": [\n",
    "    {\n",
    "      \"txid\": \"eca905461dfe03454b541191661982743a547c25342445dd98f637137e8d6895\",\n",
    "      \"vout\": 0,\n",
    "      \"scriptSig\": {\n",
    "        \"asm\": \"\",\n",
    "        \"hex\": \"\"\n",
    "      },\n",
    "      \"txinwitness\": [\n",
    "        \"3044022001083413c63c76b93ff468f2ba693a042be14162902de83fcabbe79b32f33a340220632991f6226ebba1746c771f4ec82c835b7ae5735af6568374df0170f23c54c601\",\n",
    "        \"03efb2c883e93e2977c1341b8637d757ce47b970e02aa13acd65ca26f844de8d64\"\n",
    "      ],\n",
    "      \"sequence\": 4294967293\n",
    "    }\n",
    "  ],\n",
    "  \"vout\": [\n",
    "    {\n",
    "      \"value\": 49.97999853,\n",
    "      \"n\": 0,\n",
    "      \"scriptPubKey\": {\n",
    "        \"asm\": \"OP_DUP OP_HASH160 0fa738fd6297380aacb498c74ac038e9db830095 OP_EQUALVERIFY OP_CHECKSIG\",\n",
    "        \"desc\": \"addr(mgwikmBUvbYhFfRsvEYgTb6FZZsyGAFgzq)#pmlyzhm0\",\n",
    "        \"hex\": \"76a9140fa738fd6297380aacb498c74ac038e9db83009588ac\",\n",
    "        \"address\": \"mgwikmBUvbYhFfRsvEYgTb6FZZsyGAFgzq\",\n",
    "        \"type\": \"pubkeyhash\"\n",
    "      }\n",
    "    },\n",
    "    {\n",
    "      \"value\": 0.02000000,\n",
    "      \"n\": 1,\n",
    "      \"scriptPubKey\": {\n",
    "        \"asm\": \"OP_DUP OP_HASH160 f69ff8808047eeddf564911ae7e0384b2cacf762 OP_EQUALVERIFY OP_CHECKSIG\",\n",
    "        \"desc\": \"addr(n3zzACo1BgNCDK928v6KpnWvnQ3KC9Aox4)#4redl4xr\",\n",
    "        \"hex\": \"76a914f69ff8808047eeddf564911ae7e0384b2cacf76288ac\",\n",
    "        \"address\": \"n3zzACo1BgNCDK928v6KpnWvnQ3KC9Aox4\",\n",
    "        \"type\": \"pubkeyhash\"\n",
    "      }\n",
    "    }\n",
    "  ]\n",
    "}\n",
    "```\n",
    "\n",
    "The previous script pub key for the output we want to spend is OP_DUP OP_HASH160 f69ff8808047eeddf564911ae7e0384b2cacf762 OP_EQUALVERIFY OP_CHECKSIG\n",
    "\n",
    "This matches the 'send part', but what about the change part?"
   ]
  }
 ],
 "metadata": {
  "kernelspec": {
   "display_name": "Python 3 (ipykernel)",
   "language": "python",
   "name": "python3"
  },
  "language_info": {
   "codemirror_mode": {
    "name": "ipython",
    "version": 3
   },
   "file_extension": ".py",
   "mimetype": "text/x-python",
   "name": "python",
   "nbconvert_exporter": "python",
   "pygments_lexer": "ipython3",
   "version": "3.9.6"
  }
 },
 "nbformat": 4,
 "nbformat_minor": 5
}
