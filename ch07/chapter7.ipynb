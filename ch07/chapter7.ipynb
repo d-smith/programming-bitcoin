{
 "cells": [
  {
   "cell_type": "markdown",
   "id": "9a78bf14-3e76-4d0a-bc81-f4bd286ddb05",
   "metadata": {},
   "source": [
    "Transaction validation\n",
    "\n",
    "* Inputs are previously unspent\n",
    "* Sum of inputs is greater than or equal to the outputs\n",
    "* The SigScript unlocks the previous ScriptPubKey\n"
   ]
  },
  {
   "cell_type": "code",
   "execution_count": null,
   "id": "93934640-399a-4354-a928-4bad2ca7933d",
   "metadata": {},
   "outputs": [],
   "source": [
    "# Example - is this transaction attempting to make money out of thin air?\n",
    "\n",
    "from tx import Tx\n",
    "from io import BytesIO\n",
    "raw_tx = ('0100000001813f79011acb80925dfe69b3def355fe914bd1d96a3f5f71bf830\\\n",
    "3c6a989c7d1000000006b483045022100ed81ff192e75a3fd2304004dcadb746fa5e24c5031ccf\\\n",
    "cf21320b0277457c98f02207a986d955c6e0cb35d446a89d3f56100f4d7f67801c31967743a9c8\\\n",
    "e10615bed01210349fc4e631e3624a545de3f89f5d8684c7b8138bd94bdd531d2e213bf016b278\\\n",
    "afeffffff02a135ef01000000001976a914bc3b654dca7e56b04dca18f2566cdaf02e8d9ada88a\\\n",
    "c99c39800000000001976a9141c4bc762dd5423e332166702cb75f40df79fea1288ac19430600')\n",
    "stream = BytesIO(bytes.fromhex(raw_tx))\n",
    "transaction = Tx.parse(stream)\n",
    "print(transaction.fee() >= 0)  # <1>"
   ]
  },
  {
   "cell_type": "code",
   "execution_count": null,
   "id": "d87b70b6-d4cd-446e-811b-b51ad4594860",
   "metadata": {},
   "outputs": [],
   "source": []
  }
 ],
 "metadata": {
  "kernelspec": {
   "display_name": "Python 3 (ipykernel)",
   "language": "python",
   "name": "python3"
  },
  "language_info": {
   "codemirror_mode": {
    "name": "ipython",
    "version": 3
   },
   "file_extension": ".py",
   "mimetype": "text/x-python",
   "name": "python",
   "nbconvert_exporter": "python",
   "pygments_lexer": "ipython3",
   "version": "3.9.6"
  }
 },
 "nbformat": 4,
 "nbformat_minor": 5
}
