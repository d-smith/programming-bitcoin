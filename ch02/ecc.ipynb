{
 "cells": [
  {
   "cell_type": "markdown",
   "id": "f9a2f42c",
   "metadata": {},
   "source": [
    "## Elliptic Curves\n",
    "\n",
    "### Points"
   ]
  },
  {
   "cell_type": "code",
   "execution_count": null,
   "id": "d59212ca",
   "metadata": {},
   "outputs": [],
   "source": [
    "from ecc import Point"
   ]
  },
  {
   "cell_type": "code",
   "execution_count": null,
   "id": "c184c549",
   "metadata": {},
   "outputs": [],
   "source": [
    "p1 = Point(-1, -1, 5, 7)"
   ]
  },
  {
   "cell_type": "code",
   "execution_count": null,
   "id": "8b9011f5",
   "metadata": {},
   "outputs": [],
   "source": [
    "p2 = Point(-1,-2,5,7)"
   ]
  },
  {
   "cell_type": "code",
   "execution_count": null,
   "id": "d1d3cbc1",
   "metadata": {},
   "outputs": [],
   "source": [
    "# Points on y**2 = x**3 + 5*x + 7\n",
    "# Canonical form is y**2 = x**3 + ax + b so here a = 5, b = 7"
   ]
  },
  {
   "cell_type": "code",
   "execution_count": null,
   "id": "ca18a687",
   "metadata": {},
   "outputs": [],
   "source": [
    "Point(2,4,5,7)"
   ]
  },
  {
   "cell_type": "code",
   "execution_count": null,
   "id": "10ea19a6",
   "metadata": {},
   "outputs": [],
   "source": [
    "Point(-1,-1,5,7)"
   ]
  },
  {
   "cell_type": "code",
   "execution_count": null,
   "id": "cb5a4c39",
   "metadata": {},
   "outputs": [],
   "source": [
    "Point(18,77,5,7)"
   ]
  },
  {
   "cell_type": "code",
   "execution_count": null,
   "id": "50c2c96b",
   "metadata": {},
   "outputs": [],
   "source": [
    "Point(5,7,5,7)"
   ]
  },
  {
   "cell_type": "markdown",
   "id": "a1032034",
   "metadata": {},
   "source": [
    "### Point Addition\n",
    "\n",
    "With elliptic curves we can define point addition such that when you add two points on a curve you can get a third point.  \n",
    "\n",
    "Point addition is based on the observation that for every elliptic curve, a line will intersect it at either one point or at 3 points, except for two special cases:\n",
    "\n",
    "* Exception: line is exactly vertical\n",
    "* Exception: line is tangential\n",
    "\n",
    "Adding two points involves finding the point intersecting the curve by connecting the two points with a line, then reflecting the intersecting point around the x axis.\n",
    "\n",
    "Addition has the usual properties of Identity, Commutivity, Associativity, and Invertability.\n",
    "\n",
    "For identity and invertability, we need a zero point I such that A + I = A, and A + (-A) = 0."
   ]
  },
  {
   "cell_type": "code",
   "execution_count": null,
   "id": "2c8a0d36",
   "metadata": {},
   "outputs": [],
   "source": [
    "p1 = Point(-1, -1, 5, 7)\n",
    "p2 = Point(-1, 1, 5, 7)\n",
    "inf = Point(None, None, 5, 7)\n",
    "print(p1 + inf)\n",
    "print(inf + p2)\n",
    "print(p1 + p2)\n"
   ]
  }
 ],
 "metadata": {
  "kernelspec": {
   "display_name": "Python 3 (ipykernel)",
   "language": "python",
   "name": "python3"
  },
  "language_info": {
   "codemirror_mode": {
    "name": "ipython",
    "version": 3
   },
   "file_extension": ".py",
   "mimetype": "text/x-python",
   "name": "python",
   "nbconvert_exporter": "python",
   "pygments_lexer": "ipython3",
   "version": "3.8.10"
  }
 },
 "nbformat": 4,
 "nbformat_minor": 5
}
