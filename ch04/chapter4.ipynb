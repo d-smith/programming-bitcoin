{
 "cells": [
  {
   "cell_type": "code",
   "execution_count": null,
   "id": "d5f13f39",
   "metadata": {},
   "outputs": [],
   "source": [
    "from importlib import reload\n",
    "from helper import run\n",
    "import ecc\n",
    "import helper"
   ]
  },
  {
   "cell_type": "markdown",
   "id": "35443856",
   "metadata": {},
   "source": [
    "Find the uncompressed SEC format for the public key where the private key secrets are:\n",
    "\n",
    "* 5,000\n",
    "* $2,018^{5}$\n",
    "* 0xdeadbeef12345"
   ]
  },
  {
   "cell_type": "code",
   "execution_count": null,
   "id": "dd033cf5",
   "metadata": {},
   "outputs": [],
   "source": [
    "from ecc import PrivateKey\n",
    "priv = PrivateKey(5000)\n",
    "print(priv.point.sec(compressed=False).hex())\n",
    "\n",
    "priv = PrivateKey(2018**5)\n",
    "print(priv.point.sec(compressed=False).hex())\n",
    "\n",
    "priv = PrivateKey(5000)\n",
    "print(priv.point.sec(compressed=False).hex())\n",
    "\n",
    "priv = PrivateKey(0xdeadbeef12345)\n",
    "print(priv.point.sec(compressed=False).hex())"
   ]
  },
  {
   "cell_type": "markdown",
   "id": "da90ebf6",
   "metadata": {},
   "source": [
    "Find the compressed SEC format for the public key where the private key secrets are:\n",
    "​\n",
    "* 5,001\n",
    "* $2,019^{5}$\n",
    "* 0xdeadbeef54321"
   ]
  },
  {
   "cell_type": "code",
   "execution_count": null,
   "id": "4f9c2b6a",
   "metadata": {},
   "outputs": [],
   "source": [
    "from ecc import PrivateKey\n",
    "priv = PrivateKey(5001)\n",
    "pt = priv.point\n",
    "print(pt)\n",
    "print(pt.sec().hex())\n",
    "\n",
    "priv = PrivateKey(2019**5)\n",
    "print(priv.point.sec().hex())\n",
    "\n",
    "\n",
    "priv = PrivateKey(0xdeadbeef54321)\n",
    "print(priv.point.sec().hex())"
   ]
  },
  {
   "cell_type": "code",
   "execution_count": null,
   "id": "350fcc11",
   "metadata": {},
   "outputs": [],
   "source": [
    "reload(ecc)\n",
    "from ecc import S256Point\n",
    "S256Point.parse(bytes.fromhex(\"0357a4f368868a8a6d572991e484e664810ff14c05c0fa023275251151fe0e53d1\"))"
   ]
  },
  {
   "cell_type": "code",
   "execution_count": null,
   "id": "d04453d9",
   "metadata": {},
   "outputs": [],
   "source": []
  }
 ],
 "metadata": {
  "kernelspec": {
   "display_name": "Python 3 (ipykernel)",
   "language": "python",
   "name": "python3"
  },
  "language_info": {
   "codemirror_mode": {
    "name": "ipython",
    "version": 3
   },
   "file_extension": ".py",
   "mimetype": "text/x-python",
   "name": "python",
   "nbconvert_exporter": "python",
   "pygments_lexer": "ipython3",
   "version": "3.8.10"
  }
 },
 "nbformat": 4,
 "nbformat_minor": 5
}
