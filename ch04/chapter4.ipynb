{
 "cells": [
  {
   "cell_type": "code",
   "execution_count": null,
   "id": "d5f13f39",
   "metadata": {},
   "outputs": [],
   "source": [
    "from importlib import reload\n",
    "from helper import run\n",
    "import ecc\n",
    "import helper"
   ]
  },
  {
   "cell_type": "markdown",
   "id": "35443856",
   "metadata": {},
   "source": [
    "### Public Key Serialization\n",
    "\n",
    "This is standardized as part of Standards for Efficient Cryptography (SEC)\n",
    "\n",
    "Find the uncompressed SEC format for the public key where the private key secrets are:\n",
    "\n",
    "* 5,000\n",
    "* $2,018^{5}$\n",
    "* 0xdeadbeef12345"
   ]
  },
  {
   "cell_type": "code",
   "execution_count": null,
   "id": "dd033cf5",
   "metadata": {},
   "outputs": [],
   "source": [
    "from ecc import PrivateKey\n",
    "priv = PrivateKey(5000)\n",
    "print(priv.point.sec(compressed=False).hex())\n",
    "\n",
    "priv = PrivateKey(2018**5)\n",
    "print(priv.point.sec(compressed=False).hex())\n",
    "\n",
    "priv = PrivateKey(5000)\n",
    "print(priv.point.sec(compressed=False).hex())\n",
    "\n",
    "priv = PrivateKey(0xdeadbeef12345)\n",
    "print(priv.point.sec(compressed=False).hex())"
   ]
  },
  {
   "cell_type": "markdown",
   "id": "da90ebf6",
   "metadata": {},
   "source": [
    "Find the compressed SEC format for the public key where the private key secrets are:\n",
    "​\n",
    "* 5,001\n",
    "* $2,019^{5}$\n",
    "* 0xdeadbeef54321"
   ]
  },
  {
   "cell_type": "code",
   "execution_count": null,
   "id": "4f9c2b6a",
   "metadata": {},
   "outputs": [],
   "source": [
    "from ecc import PrivateKey\n",
    "priv = PrivateKey(5001)\n",
    "pt = priv.point\n",
    "print(pt)\n",
    "print(pt.sec().hex())\n",
    "\n",
    "priv = PrivateKey(2019**5)\n",
    "print(priv.point.sec().hex())\n",
    "\n",
    "\n",
    "priv = PrivateKey(0xdeadbeef54321)\n",
    "print(priv.point.sec().hex())"
   ]
  },
  {
   "cell_type": "code",
   "execution_count": null,
   "id": "350fcc11",
   "metadata": {},
   "outputs": [],
   "source": [
    "reload(ecc)\n",
    "from ecc import S256Point\n",
    "S256Point.parse(bytes.fromhex(\"0357a4f368868a8a6d572991e484e664810ff14c05c0fa023275251151fe0e53d1\"))"
   ]
  },
  {
   "cell_type": "markdown",
   "id": "6e82f322",
   "metadata": {},
   "source": [
    "### Serializing Signatures\n",
    "\n",
    "Standarized as Distinguished Encoding Rules (DER) format.\n"
   ]
  },
  {
   "cell_type": "code",
   "execution_count": null,
   "id": "7d72934d",
   "metadata": {},
   "outputs": [],
   "source": [
    "reload(ecc)\n",
    "from ecc import Signature\n",
    "r = 0x37206a0610995c58074999cb9767b87af4c4978db68c06e8e6e81d282047a7c6\n",
    "s = 0x8ca63759c1157ebeaec0d03cecca119fc9a75bf8e6d0fa65c841c8e2738cdaec\n",
    "sig = Signature(r,s)"
   ]
  },
  {
   "cell_type": "code",
   "execution_count": null,
   "id": "ae45281e",
   "metadata": {},
   "outputs": [],
   "source": [
    "encoded = sig.der()\n",
    "print(encoded.hex())"
   ]
  },
  {
   "cell_type": "code",
   "execution_count": null,
   "id": "7d97e8f8",
   "metadata": {},
   "outputs": [],
   "source": [
    "rehydrated = Signature.parse(encoded)"
   ]
  },
  {
   "cell_type": "code",
   "execution_count": null,
   "id": "42c361e2",
   "metadata": {},
   "outputs": [],
   "source": [
    "print(rehydrated)"
   ]
  },
  {
   "cell_type": "code",
   "execution_count": null,
   "id": "0667e246",
   "metadata": {},
   "outputs": [],
   "source": []
  }
 ],
 "metadata": {
  "kernelspec": {
   "display_name": "Python 3 (ipykernel)",
   "language": "python",
   "name": "python3"
  },
  "language_info": {
   "codemirror_mode": {
    "name": "ipython",
    "version": 3
   },
   "file_extension": ".py",
   "mimetype": "text/x-python",
   "name": "python",
   "nbconvert_exporter": "python",
   "pygments_lexer": "ipython3",
   "version": "3.8.10"
  }
 },
 "nbformat": 4,
 "nbformat_minor": 5
}
